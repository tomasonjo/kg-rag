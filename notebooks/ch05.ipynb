{
 "cells": [
  {
   "cell_type": "code",
   "execution_count": 5,
   "metadata": {},
   "outputs": [
    {
     "name": "stdout",
     "output_type": "stream",
     "text": [
      "The dotenv extension is already loaded. To reload it, use:\n",
      "  %reload_ext dotenv\n"
     ]
    }
   ],
   "source": [
    "%load_ext dotenv\n",
    "%dotenv"
   ]
  },
  {
   "cell_type": "code",
   "execution_count": 30,
   "metadata": {},
   "outputs": [],
   "source": [
    "from importlib import reload\n",
    "import json\n",
    "import utils\n",
    "\n",
    "reload(utils)\n",
    "\n",
    "chat = utils.chat"
   ]
  },
  {
   "cell_type": "code",
   "execution_count": 31,
   "metadata": {},
   "outputs": [],
   "source": [
    "query_rewrite_prompt = \"\"\"\n",
    "    You are an expert in language and understanding semantic meaning.\n",
    "    You read input from person and your job is to expand the input\n",
    "    into stand alone atomic questions.\n",
    "\n",
    "    You must return JSON using the template below.\n",
    "\n",
    "    Example:\n",
    "    Input: Who is Mick Jagger and how old is he?\n",
    "    Output: \n",
    "    {\n",
    "        \"questions\": [\n",
    "            \"Who is Mick Jagger?\",\n",
    "            \"How old is Mick Jagger?\"\n",
    "        ]\n",
    "    }\n",
    "\"\"\"\n",
    "\n",
    "def query_rewrite(input: str) -> list[str]:\n",
    "        \n",
    "        messages = [\n",
    "            {\"role\": \"system\", \"content\": query_rewrite_prompt},\n",
    "            {\"role\": \"user\", \"content\": f\"The user question to rewrite: '{input}'\"},\n",
    "        ]\n",
    "        config = {\n",
    "            \"response_format\": {\"type\": \"json_object\"},\n",
    "        }\n",
    "        output = chat(messages, model = \"gpt-3.5-turbo-0125\", config=config, )\n",
    "        try:\n",
    "            return json.loads(output)[\"questions\"]\n",
    "        except json.JSONDecodeError:\n",
    "            print(\"Error decoding JSON\")\n",
    "        return []\n"
   ]
  },
  {
   "cell_type": "code",
   "execution_count": 34,
   "metadata": {},
   "outputs": [
    {
     "name": "stdout",
     "output_type": "stream",
     "text": [
      "Query rewrite results: [\"Who directed the movie 'The Godfather'?\", \"How long is the movie 'The Godfather'?\", \"What is the movie 'The Godfather' about?\"]\n"
     ]
    }
   ],
   "source": [
    "response = query_rewrite(\"Who directed the movie 'The Godfather', how long is it and what is it about?\")\n",
    "print(f\"Query rewrite results: {response}\")"
   ]
  }
 ],
 "metadata": {
  "kernelspec": {
   "display_name": "Python 3",
   "language": "python",
   "name": "python3"
  },
  "language_info": {
   "codemirror_mode": {
    "name": "ipython",
    "version": 3
   },
   "file_extension": ".py",
   "mimetype": "text/x-python",
   "name": "python",
   "nbconvert_exporter": "python",
   "pygments_lexer": "ipython3",
   "version": "3.11.6"
  }
 },
 "nbformat": 4,
 "nbformat_minor": 2
}
