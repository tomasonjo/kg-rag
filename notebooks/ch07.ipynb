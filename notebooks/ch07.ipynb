{
 "cells": [
  {
   "cell_type": "code",
   "execution_count": 1,
   "id": "661612df-5e84-4ebd-847a-ef136d1f1acb",
   "metadata": {},
   "outputs": [],
   "source": [
    "%load_ext dotenv\n",
    "%dotenv"
   ]
  },
  {
   "cell_type": "code",
   "execution_count": 2,
   "id": "dbc9d8c8-1cf0-4528-aad0-c01f1fb25086",
   "metadata": {},
   "outputs": [
    {
     "name": "stderr",
     "output_type": "stream",
     "text": [
      "/Users/tomazbratanic/anaconda3/lib/python3.11/site-packages/pandas/core/arrays/masked.py:60: UserWarning: Pandas requires version '1.3.6' or newer of 'bottleneck' (version '1.3.5' currently installed).\n",
      "  from pandas.core import (\n"
     ]
    }
   ],
   "source": [
    "from utils import neo4j_driver, num_tokens_from_string, chunk_text, chat, embed\n",
    "import ch07_tools\n",
    "\n",
    "import json\n",
    "import requests\n",
    "\n",
    "from tqdm import tqdm\n",
    "from typing import List, Dict"
   ]
  },
  {
   "cell_type": "code",
   "execution_count": 3,
   "id": "e2e4999c-e98d-499e-89d5-e7d1730e7a55",
   "metadata": {},
   "outputs": [],
   "source": [
    "url = \"https://www.gutenberg.org/cache/epub/1727/pg1727.txt\"\n",
    "response = requests.get(url)"
   ]
  },
  {
   "cell_type": "code",
   "execution_count": 4,
   "id": "a9335794-0cc6-4d98-b10a-9f7d4b5c0c66",
   "metadata": {},
   "outputs": [],
   "source": [
    "def chunk_into_books(text: str) -> List[str]:\n",
    "    return (\n",
    "        text.split(\"PREFACE TO FIRST EDITION\")[2]\n",
    "        .split(\"FOOTNOTES\")[0]\n",
    "        .strip()\n",
    "        .split(\"\\nBOOK\")[1:]\n",
    "    )\n",
    "\n",
    "books = chunk_into_books(response.text)"
   ]
  },
  {
   "cell_type": "code",
   "execution_count": 5,
   "id": "eddeadc3-e491-49ba-8af7-f38fdfd8e3f7",
   "metadata": {},
   "outputs": [
    {
     "name": "stdout",
     "output_type": "stream",
     "text": [
      "There are 24 books with token sizes:\n",
      "- avg 6515.208333333333\n",
      "- min 4459\n",
      "- max 10760\n",
      "\n"
     ]
    }
   ],
   "source": [
    "token_count = [num_tokens_from_string(el) for el in books]\n",
    "print(\n",
    "    f\"\"\"There are {len(token_count)} books with token sizes:\n",
    "- avg {sum(token_count) / len(token_count)}\n",
    "- min {min(token_count)}\n",
    "- max {max(token_count)}\n",
    "\"\"\"\n",
    ")"
   ]
  },
  {
   "cell_type": "code",
   "execution_count": 6,
   "id": "d74c7143-2357-4f05-abc6-b6f18a229cc8",
   "metadata": {},
   "outputs": [],
   "source": [
    "chunked_books = [chunk_text(book, 1000, 40) for book in books]"
   ]
  },
  {
   "cell_type": "code",
   "execution_count": 7,
   "id": "cd158eb0-f79d-4746-bd18-856feb1ebe75",
   "metadata": {},
   "outputs": [],
   "source": [
    "ENTITY_TYPES = [\n",
    "    \"PERSON\",\n",
    "    \"ORGANIZATION\",\n",
    "    \"LOCATION\",\n",
    "    \"GOD\",\n",
    "    \"EVENT\",\n",
    "    \"CREATURE\",\n",
    "    \"WEAPON_OR_TOOL\",\n",
    "]\n",
    "def extract_entities(text: str) -> List[Dict]:\n",
    "    # Construct prompt\n",
    "    messages = [\n",
    "        {\"role\": \"user\", \"content\": ch07_tools.create_extraction_prompt(ENTITY_TYPES, text)},\n",
    "    ]\n",
    "    # Make the LLM call\n",
    "    output = chat(messages, model = \"gpt-4o\")\n",
    "    # Construct JSON from output\n",
    "    return ch07_tools.parse_extraction_output(output)"
   ]
  },
  {
   "cell_type": "code",
   "execution_count": 8,
   "id": "f23e32ad-1cc6-44cc-aa06-d3d142cdbfe6",
   "metadata": {},
   "outputs": [
    {
     "name": "stderr",
     "output_type": "stream",
     "text": [
      "Processing Books:   0%|          | 0/1 [00:00<?, ?it/s]\n",
      "Book 0:   0%|          | 0/22 [00:00<?, ?it/s]\u001b[A\n",
      "Book 0:   5%|▍         | 1/22 [00:08<02:49,  8.09s/it]\u001b[A\n",
      "Book 0:   9%|▉         | 2/22 [00:18<03:07,  9.40s/it]\u001b[A\n",
      "Book 0:  14%|█▎        | 3/22 [00:31<03:34, 11.27s/it]\u001b[A\n",
      "Book 0:  18%|█▊        | 4/22 [00:41<03:08, 10.48s/it]\u001b[A\n",
      "Book 0:  23%|██▎       | 5/22 [00:56<03:27, 12.19s/it]\u001b[A\n",
      "Book 0:  27%|██▋       | 6/22 [01:06<03:03, 11.45s/it]\u001b[A\n",
      "Book 0:  32%|███▏      | 7/22 [01:11<02:18,  9.24s/it]\u001b[A\n",
      "Book 0:  36%|███▋      | 8/22 [01:18<02:02,  8.73s/it]\u001b[A\n",
      "Book 0:  41%|████      | 9/22 [01:25<01:46,  8.18s/it]\u001b[A\n",
      "Book 0:  45%|████▌     | 10/22 [01:31<01:27,  7.30s/it]\u001b[A\n",
      "Book 0:  50%|█████     | 11/22 [01:41<01:31,  8.36s/it]\u001b[A\n",
      "Book 0:  55%|█████▍    | 12/22 [01:51<01:28,  8.83s/it]\u001b[A\n",
      "Book 0:  59%|█████▉    | 13/22 [02:04<01:31, 10.13s/it]\u001b[A\n",
      "Book 0:  64%|██████▎   | 14/22 [02:10<01:10,  8.85s/it]\u001b[A\n",
      "Book 0:  68%|██████▊   | 15/22 [02:17<00:57,  8.28s/it]\u001b[A\n",
      "Book 0:  73%|███████▎  | 16/22 [02:20<00:39,  6.53s/it]\u001b[A\n",
      "Book 0:  77%|███████▋  | 17/22 [02:28<00:34,  6.96s/it]\u001b[A\n",
      "Book 0:  82%|████████▏ | 18/22 [02:38<00:31,  7.91s/it]\u001b[A\n",
      "Book 0:  86%|████████▋ | 19/22 [02:46<00:24,  8.01s/it]\u001b[A\n",
      "Book 0:  91%|█████████ | 20/22 [02:52<00:14,  7.34s/it]\u001b[A\n",
      "Book 0:  95%|█████████▌| 21/22 [03:00<00:07,  7.67s/it]\u001b[A\n",
      "Book 0: 100%|██████████| 22/22 [03:02<00:00,  6.02s/it]\u001b[A\n",
      "Processing Books: 100%|██████████| 1/1 [03:02<00:00, 182.85s/it]\n"
     ]
    }
   ],
   "source": [
    "number_of_books = 1\n",
    "for book_i, book in enumerate(\n",
    "    tqdm(chunked_books[:number_of_books], desc=\"Processing Books\")\n",
    "):\n",
    "    for chunk_i, chunk in enumerate(tqdm(book, desc=f\"Book {book_i}\", leave=False)):\n",
    "        nodes, relationships = extract_entities(chunk)\n",
    "        neo4j_driver.execute_query(\n",
    "            ch07_tools.import_nodes_query,\n",
    "            data=nodes,\n",
    "            book_id=book_i,\n",
    "            text=chunk,\n",
    "            chunk_id=chunk_i,\n",
    "        )\n",
    "        neo4j_driver.execute_query(\n",
    "            ch07_tools.import_relationships_query, data=relationships\n",
    "        )"
   ]
  },
  {
   "cell_type": "code",
   "execution_count": 9,
   "id": "3f20b002-4547-47f5-9102-c6ad4f9060ea",
   "metadata": {},
   "outputs": [
    {
     "name": "stdout",
     "output_type": "stream",
     "text": [
      "[{'type': 'entity', 'count': 62}, {'type': 'relationship', 'count': 91}]\n"
     ]
    }
   ],
   "source": [
    "data, _, _ = neo4j_driver.execute_query(\n",
    "    \"\"\"MATCH (:`__Entity__`)\n",
    "    RETURN 'entity' AS type, count(*) AS count\n",
    "    UNION\n",
    "    MATCH ()-[:RELATIONSHIP]->()\n",
    "    RETURN 'relationship' AS type, count(*) AS count\n",
    "    \"\"\"\n",
    ")\n",
    "print([el.data() for el in data])"
   ]
  },
  {
   "cell_type": "code",
   "execution_count": 10,
   "id": "81559adb-5ec9-484a-aac2-815c0815a7f0",
   "metadata": {},
   "outputs": [
    {
     "name": "stdout",
     "output_type": "stream",
     "text": [
      "[[\"Orestes is Agamemnon's son who killed Aegisthus\", 'Orestes is a character who was expected to take revenge for past wrongs', \"Orestes is praised for avenging his father's murder by killing Aegisthus\"]]\n"
     ]
    }
   ],
   "source": [
    "data, _, _ = neo4j_driver.execute_query(\n",
    "    \"\"\"MATCH (n:PERSON)\n",
    "WHERE n.name = \"ORESTES\"\n",
    "RETURN n.description AS description\"\"\"\n",
    ")\n",
    "print([el.data()['description'] for el in data])"
   ]
  },
  {
   "cell_type": "code",
   "execution_count": 11,
   "id": "3d95fa0b-9e60-461d-8dd0-e81e9d648fc5",
   "metadata": {},
   "outputs": [
    {
     "name": "stdout",
     "output_type": "stream",
     "text": [
      "[{'source': 'TELEMACHUS', 'target': 'MINERVA', 'countOfRels': 7, 'descriptions': ['Telemachus spoke quietly to Minerva during the banquet', 'Minerva, a goddess, advises and encourages Telemachus, making him think more about his father', 'Minerva gave counsel to Telemachus regarding his intended voyage', 'Minerva visits Ithaca, where Telemachus challenges the suitors', 'Minerva plans to encourage Telemachus to confront the suitors and seek information about his father', 'Minerva, in disguise, is recognized by Telemachus and welcomed', 'Minerva is speaking to Telemachus, offering him guidance and reassurance']}]\n"
     ]
    }
   ],
   "source": [
    "data, _, _ = neo4j_driver.execute_query(\n",
    "    \"\"\"MATCH (n:__Entity__)-[:RELATIONSHIP]-(m:__Entity__)\n",
    "WITH n,m, count(*) AS countOfRels\n",
    "ORDER BY countOfRels DESC LIMIT 1\n",
    "MATCH (n)-[r:RELATIONSHIP]-(m)\n",
    "RETURN n.name AS source, m.name AS target, countOfRels, collect(r.description) AS descriptions\n",
    "\"\"\"\n",
    ")\n",
    "print([el.data() for el in data])"
   ]
  },
  {
   "cell_type": "code",
   "execution_count": 12,
   "id": "ea5a61d4-11a0-4bc6-8d9f-48d7bdb6f17d",
   "metadata": {},
   "outputs": [
    {
     "name": "stderr",
     "output_type": "stream",
     "text": [
      "Summarizing entities: 100%|██████████| 25/25 [01:05<00:00,  2.61s/it]\n"
     ]
    }
   ],
   "source": [
    "candidates_to_summarize, _, _ = neo4j_driver.execute_query(\n",
    "    \"\"\"MATCH (e:__Entity__) WHERE size(e.description) > 1 \n",
    "    RETURN e.name AS entity_name, e.description AS description_list\"\"\"\n",
    ")\n",
    "summaries = []\n",
    "for candidate in tqdm(candidates_to_summarize, desc=\"Summarizing entities\"):\n",
    "    messages = [\n",
    "        {\n",
    "            \"role\": \"user\",\n",
    "            \"content\": ch07_tools.get_summarize_prompt(\n",
    "                candidate[\"entity_name\"], candidate[\"description_list\"]\n",
    "            ),\n",
    "        },\n",
    "    ]\n",
    "    summary = chat(messages, model=\"gpt-4o\")\n",
    "    summaries.append({\"entity\": candidate[\"entity_name\"], \"summary\": summary})\n",
    "\n",
    "ch07_tools.import_entity_summary(neo4j_driver, summaries)"
   ]
  },
  {
   "cell_type": "code",
   "execution_count": 13,
   "id": "592e9949-108a-45f8-baf8-b905f9d235b2",
   "metadata": {},
   "outputs": [
    {
     "name": "stdout",
     "output_type": "stream",
     "text": [
      "Orestes is a character known for being the son of Agamemnon. He is recognized for fulfilling the expectation of avenging past wrongs, specifically by killing Aegisthus. Orestes is praised for avenging his father's murder, which was a significant act of retribution in his narrative.\n"
     ]
    }
   ],
   "source": [
    "summary, _, _ = neo4j_driver.execute_query(\n",
    "    \"\"\"MATCH (n:PERSON)\n",
    "WHERE n.name = \"ORESTES\"\n",
    "RETURN n.summary AS summary\"\"\")\n",
    "print(summary[0]['summary'])"
   ]
  },
  {
   "cell_type": "code",
   "execution_count": 14,
   "id": "2b4c1373-7fdd-4712-8d03-4029735af0be",
   "metadata": {},
   "outputs": [
    {
     "name": "stderr",
     "output_type": "stream",
     "text": [
      "Summarizing relationships: 100%|██████████| 14/14 [00:28<00:00,  2.06s/it]\n"
     ]
    }
   ],
   "source": [
    "rels_to_summarize, _, _ = neo4j_driver.execute_query(\n",
    "    \"\"\"MATCH (s:__Entity__)-[r:RELATIONSHIP]-(t:__Entity__)\n",
    "    WHERE id(s) < id(t)\n",
    "    WITH s.name AS source, t.name AS target, \n",
    "           collect(r.description) AS description_list,\n",
    "           count(*) AS count\n",
    "    WHERE count > 1\n",
    "    RETURN source, target, description_list\"\"\"\n",
    ")\n",
    "rel_summaries = []\n",
    "for candidate in tqdm(rels_to_summarize, desc=\"Summarizing relationships\"):\n",
    "    entity_name = f\"{candidate['source']} relationship to {candidate['target']}\"\n",
    "    messages = [\n",
    "        {\n",
    "            \"role\": \"user\",\n",
    "            \"content\": ch07_tools.get_summarize_prompt(\n",
    "                entity_name, candidate[\"description_list\"]\n",
    "            ),\n",
    "        },\n",
    "    ]\n",
    "    summary = chat(messages, model=\"gpt-4o\")\n",
    "    rel_summaries.append({\"source\": candidate[\"source\"], \"target\": candidate[\"target\"], \"summary\": summary})\n",
    "\n",
    "ch07_tools.import_rels_summary(neo4j_driver, summaries)"
   ]
  },
  {
   "cell_type": "code",
   "execution_count": 15,
   "id": "5d6f2d39-cca1-4fea-a5e6-c7481fe12ff7",
   "metadata": {},
   "outputs": [
    {
     "name": "stdout",
     "output_type": "stream",
     "text": [
      "Minerva is speaking to Telemachus, offering him guidance and reassurance\n"
     ]
    }
   ],
   "source": [
    "data, _, _ = neo4j_driver.execute_query(\n",
    "    \"\"\"MATCH (n:__Entity__)-[r:SUMMARIZED_RELATIONSHIP]-(m:__Entity__)\n",
    "WHERE n.name = 'TELEMACHUS' AND m.name = 'MINERVA'\n",
    "RETURN r.summary AS description\n",
    "\"\"\"\n",
    ")\n",
    "print(data[0][\"description\"])"
   ]
  },
  {
   "cell_type": "code",
   "execution_count": 16,
   "id": "f66d59ea-04f4-42da-9a70-fcb3eb967383",
   "metadata": {},
   "outputs": [
    {
     "name": "stdout",
     "output_type": "stream",
     "text": [
      "There are 9 communities with distribution: {'min': 2, 'p5': 2, 'max': 16, 'p999': 16, 'p99': 16, 'p1': 2, 'p10': 2, 'p90': 16, 'p50': 4, 'p25': 3, 'p75': 10, 'p95': 16, 'mean': 6.555555555555555}\n"
     ]
    }
   ],
   "source": [
    "community_distribution = ch07_tools.calculate_communities(neo4j_driver)\n",
    "print(f\"There are {community_distribution['communityCount']} communities with distribution: {community_distribution['communityDistribution']}\")"
   ]
  },
  {
   "cell_type": "code",
   "execution_count": 17,
   "id": "dfacaf80-218d-4209-9a68-56c94b003f8c",
   "metadata": {},
   "outputs": [
    {
     "name": "stderr",
     "output_type": "stream",
     "text": [
      "Summarizing communities: 100%|██████████| 9/9 [02:36<00:00, 17.38s/it]\n"
     ]
    },
    {
     "data": {
      "text/plain": [
       "EagerResult(records=[], summary=<neo4j._work.summary.ResultSummary object at 0x130437510>, keys=[])"
      ]
     },
     "execution_count": 17,
     "metadata": {},
     "output_type": "execute_result"
    }
   ],
   "source": [
    "community_info, _, _ = neo4j_driver.execute_query(ch07_tools.community_info_query)\n",
    "\n",
    "communities = []\n",
    "for community in tqdm(community_info, desc=\"Summarizing communities\"):\n",
    "    messages = [\n",
    "        {\n",
    "            \"role\": \"user\",\n",
    "            \"content\": ch07_tools.get_summarize_community_prompt(\n",
    "                community[\"nodes\"], community[\"rels\"]\n",
    "            ),\n",
    "        },\n",
    "    ]\n",
    "    summary = chat(messages, model=\"gpt-4o\")\n",
    "    communities.append(\n",
    "        {\n",
    "            \"community\": json.loads(ch07_tools.extract_json(summary)),\n",
    "            \"communityId\": community[\"communityId\"],\n",
    "            \"nodes\": [el[\"id\"] for el in community[\"nodes\"]],\n",
    "        }\n",
    "    )\n",
    "\n",
    "neo4j_driver.execute_query(ch07_tools.import_community_query, data=communities)"
   ]
  },
  {
   "cell_type": "code",
   "execution_count": 18,
   "id": "242c363b-822b-4eb4-a4bd-3c0b6b0fa6eb",
   "metadata": {},
   "outputs": [
    {
     "name": "stdout",
     "output_type": "stream",
     "text": [
      "Ulysses and the Suitors in Ithaca\n",
      "The community centers around Ulysses, a legendary Greek hero, and the suitors who have taken over his estate in Ithaca. The suitors are causing significant disruption as they seek to marry Ulysses' wife. Ulysses' journey home is hindered by divine and mortal challenges, including the wrath of Neptune and the detainment by Calypso. The Achaean heroes and various Greek islands are also involved, highlighting the complex web of relationships and conflicts surrounding Ulysses' return.\n"
     ]
    }
   ],
   "source": [
    "data, _, _ = neo4j_driver.execute_query(\n",
    "    \"\"\"MATCH (c:__Community__)\n",
    "WITH c, count {(c)<-[:IN_COMMUNITY]-()} AS size\n",
    "ORDER BY size DESC LIMIT 1\n",
    "RETURN c.title AS title, c.summary AS summary\n",
    "\"\"\"\n",
    ")\n",
    "print(data[0][\"title\"])\n",
    "print(data[0][\"summary\"])"
   ]
  },
  {
   "cell_type": "code",
   "execution_count": 19,
   "id": "58115fda-82ee-40fa-a58d-eac722f1f853",
   "metadata": {},
   "outputs": [],
   "source": [
    "def global_retriever(query: str, rating_threshold: float = 5) -> str:\n",
    "    community_data, _, _ = neo4j_driver.execute_query(\n",
    "        \"\"\"\n",
    "    MATCH (c:__Community__)\n",
    "    WHERE c.rating >= $rating\n",
    "    RETURN c.summary AS summary\n",
    "    \"\"\",\n",
    "        rating=rating_threshold,\n",
    "    )\n",
    "    print(f\"Got {len(community_data)} community summaries\")\n",
    "    intermediate_results = []\n",
    "    for community in tqdm(community_data, desc=\"Processing communities\"):\n",
    "        intermediate_messages = [\n",
    "            {\n",
    "                \"role\": \"system\",\n",
    "                \"content\": ch07_tools.get_map_system_prompt(community[\"summary\"]),\n",
    "            },\n",
    "            {\n",
    "                \"role\": \"user\",\n",
    "                \"content\": query,\n",
    "            },\n",
    "        ]\n",
    "        intermediate_response = chat(intermediate_messages, model=\"gpt-4o\")\n",
    "        intermediate_results.append(intermediate_response)\n",
    "\n",
    "    final_messages = [\n",
    "        {\n",
    "            \"role\": \"system\",\n",
    "            \"content\": ch07_tools.get_reduce_system_prompt(intermediate_results),\n",
    "        },\n",
    "        {\"role\": \"user\", \"content\": query},\n",
    "    ]\n",
    "    summary = chat(final_messages, model=\"gpt-4o\")\n",
    "    return summary"
   ]
  },
  {
   "cell_type": "code",
   "execution_count": 20,
   "id": "f8b2d347-03b0-4aef-85c1-09c2259e194d",
   "metadata": {},
   "outputs": [
    {
     "name": "stdout",
     "output_type": "stream",
     "text": [
      "Got 5 community summaries\n"
     ]
    },
    {
     "name": "stderr",
     "output_type": "stream",
     "text": [
      "Processing communities: 100%|██████████| 5/5 [00:31<00:00,  6.27s/it]\n"
     ]
    },
    {
     "name": "stdout",
     "output_type": "stream",
     "text": [
      "The story revolves around Ulysses, a legendary Greek hero, and his arduous journey back to his homeland, Ithaca, after the Trojan War. Ulysses faces numerous challenges, both divine and mortal, including the wrath of Neptune and detainment by Calypso, which significantly delay his return [Data: Reports (1)]. Meanwhile, his estate in Ithaca is besieged by suitors vying for his wife, causing considerable disruption [Data: Reports (1)].\n",
      "\n",
      "The narrative also explores the complex web of relationships and conflicts involving Achaean heroes and various Greek islands, highlighting the broader impact of Ulysses' journey on Greek society [Data: Reports (1)]. Divine influence plays a crucial role, with Heaven depicted as a powerful force determining leadership among people [Data: Reports (1)]. This divine intervention is further exemplified by the involvement of Olympian Jove, who presides over a divine assembly reflecting on the actions of Aegisthus, infamous for murdering Agamemnon, and the subsequent retribution by Orestes [Data: Reports (1)].\n",
      "\n",
      "Overall, the story is a rich tapestry of mythological narratives, divine interventions, and human endeavors, underscoring themes of leadership, vengeance, and the enduring legacy of the Trojan War [Data: Reports (1)].\n"
     ]
    }
   ],
   "source": [
    "print(global_retriever(\"What is this story about?\"))"
   ]
  },
  {
   "cell_type": "code",
   "execution_count": 21,
   "id": "e021f02e-283a-4b75-85dc-2d32de31b602",
   "metadata": {},
   "outputs": [
    {
     "data": {
      "text/plain": [
       "EagerResult(records=[], summary=<neo4j._work.summary.ResultSummary object at 0x1303d2e10>, keys=[])"
      ]
     },
     "execution_count": 21,
     "metadata": {},
     "output_type": "execute_result"
    }
   ],
   "source": [
    "entities, _, _ = neo4j_driver.execute_query(\n",
    "    \"\"\"\n",
    "MATCH (e:__Entity__)\n",
    "RETURN e.summary AS summary, e.name AS name\n",
    "\"\"\"\n",
    ")\n",
    "data = [{\"name\": el[\"name\"], \"embedding\": embed(el[\"summary\"])[0]} for el in entities]\n",
    "neo4j_driver.execute_query(\n",
    "    \"\"\"\n",
    "UNWIND $data AS row\n",
    "MATCH (e:__Entity__ {name: row.name})\n",
    "CALL db.create.setNodeVectorProperty(e, 'embedding', row.embedding)\n",
    "\"\"\",\n",
    "    data=data,\n",
    ")\n",
    "\n",
    "neo4j_driver.execute_query(\n",
    "    \"\"\"\n",
    "CREATE VECTOR INDEX entities IF NOT EXISTS\n",
    "FOR (n:__Entity__)\n",
    "ON (n.embedding)\n",
    "\"\"\",\n",
    "    data=data,\n",
    ")\n"
   ]
  },
  {
   "cell_type": "code",
   "execution_count": 22,
   "id": "f0895bdd-9de0-409c-b09e-cb48af4cae9e",
   "metadata": {},
   "outputs": [],
   "source": [
    "local_search_query = \"\"\"\n",
    "CALL db.index.vector.queryNodes('entities', $k, $embedding)\n",
    "YIELD node, score\n",
    "WITH collect(node) as nodes\n",
    "WITH collect {\n",
    "    UNWIND nodes as n\n",
    "    MATCH (n)<-[:HAS_ENTITY]->(c:__Chunk__)\n",
    "    WITH c, count(distinct n) as freq\n",
    "    RETURN c.text AS chunkText\n",
    "    ORDER BY freq DESC\n",
    "    LIMIT $topChunks\n",
    "} AS text_mapping,\n",
    "collect {\n",
    "    UNWIND nodes as n\n",
    "    MATCH (n)-[:IN_COMMUNITY]->(c:__Community__)\n",
    "    WITH c, c.rank as rank, c.weight AS weight\n",
    "    RETURN c.summary \n",
    "    ORDER BY rank, weight DESC\n",
    "    LIMIT $topCommunities\n",
    "} AS report_mapping,\n",
    "collect {\n",
    "    UNWIND nodes as n\n",
    "    MATCH (n)-[r:SUMMARIZED_RELATIONSHIP]-(m) \n",
    "    WHERE m IN nodes\n",
    "    RETURN r.summary AS descriptionText\n",
    "    ORDER BY r.rank, r.weight DESC \n",
    "    LIMIT $topInsideRels\n",
    "} as insideRels,\n",
    "collect {\n",
    "    UNWIND nodes as n\n",
    "    RETURN n.summary AS descriptionText\n",
    "} as entities\n",
    "RETURN {Chunks: text_mapping, Reports: report_mapping, \n",
    "       Relationships: insideRels, \n",
    "       Entities: entities} AS text\n",
    "\"\"\""
   ]
  },
  {
   "cell_type": "code",
   "execution_count": 23,
   "id": "a0487950-50f8-45fe-a438-389000f40d23",
   "metadata": {},
   "outputs": [],
   "source": [
    "k_entities = 5\n",
    "\n",
    "topChunks = 3\n",
    "topCommunities = 3\n",
    "topInsideRels = 3\n",
    "\n",
    "\n",
    "def local_search(query: str) -> str:\n",
    "    context, _, _ = neo4j_driver.execute_query(\n",
    "        local_search_query,\n",
    "        embedding=embed(query)[0],\n",
    "        topChunks=topChunks,\n",
    "        topCommunities=topCommunities,\n",
    "        topInsideRels=topInsideRels,\n",
    "        k=k_entities,\n",
    "    )\n",
    "    context_str = str(context[0][\"text\"])\n",
    "    local_messages = [\n",
    "        {\n",
    "            \"role\": \"system\",\n",
    "            \"content\": ch07_tools.get_local_system_prompt(context_str),\n",
    "        },\n",
    "        {\n",
    "            \"role\": \"user\",\n",
    "            \"content\": query,\n",
    "        },\n",
    "    ]\n",
    "    final_answer = chat(local_messages, model=\"gpt-4o\")\n",
    "    return final_answer\n"
   ]
  },
  {
   "cell_type": "code",
   "execution_count": 24,
   "id": "9110123e-017f-4389-9dd7-4d4f381a1631",
   "metadata": {},
   "outputs": [
    {
     "name": "stdout",
     "output_type": "stream",
     "text": [
      "## Ulysses: The Legendary Greek Hero\n",
      "\n",
      "Ulysses, also known as Odysseus, is a legendary figure in Greek mythology renowned for his intelligence, resourcefulness, and leadership during the Trojan War. He is celebrated as the ingenious hero who, after the fall of Troy, embarked on a long and arduous journey to return to his homeland, Ithaca. This journey is famously chronicled in Homer's epic, \"The Odyssey,\" where Ulysses faces numerous challenges and adventures as he longs to reunite with his wife, Penelope, and his son, Telemachus [Data: Entities (1)].\n",
      "\n",
      "## The Journey and Challenges\n",
      "\n",
      "Ulysses' journey home is fraught with divine and mortal challenges. He is detained by the nymph Calypso on a remote island, and his return is further complicated by the wrath of Neptune, the god of the sea. Despite these obstacles, the gods are ultimately facilitating his return, as he is needed in Ithaca to deal with the suitors who have overrun his estate and are vying for his wife's hand in marriage [Data: Reports (1, 2, 3); Entities (1)].\n",
      "\n",
      "## Legacy and Significance\n",
      "\n",
      "In Ithaca, Ulysses is remembered as a capable leader and a chief among the many great men of the island. His legacy endures as a symbol of perseverance and cunning, qualities that have made him a central figure in Greek mythology. His story is not only about his physical journey but also about his personal growth and the enduring human spirit [Data: Entities (1, 2); Relationships (1, 2)].\n",
      "\n",
      "Ulysses' tale is a rich tapestry of adventure, loyalty, and the struggle against fate, making him one of the most enduring characters in Western literature. His story continues to captivate audiences with its timeless themes and the hero's indomitable will to return home against all odds.\n"
     ]
    }
   ],
   "source": [
    "print(local_search(\"Who is Ulysses?\"))"
   ]
  },
  {
   "cell_type": "code",
   "execution_count": null,
   "id": "2ddefe69-cad6-4d90-9187-f4472b9c28a5",
   "metadata": {},
   "outputs": [],
   "source": []
  }
 ],
 "metadata": {
  "kernelspec": {
   "display_name": "Python 3 (ipykernel)",
   "language": "python",
   "name": "python3"
  },
  "language_info": {
   "codemirror_mode": {
    "name": "ipython",
    "version": 3
   },
   "file_extension": ".py",
   "mimetype": "text/x-python",
   "name": "python",
   "nbconvert_exporter": "python",
   "pygments_lexer": "ipython3",
   "version": "3.11.5"
  }
 },
 "nbformat": 4,
 "nbformat_minor": 5
}
