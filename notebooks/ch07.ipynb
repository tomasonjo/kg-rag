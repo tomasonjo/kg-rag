{
 "cells": [
  {
   "cell_type": "code",
   "execution_count": 1,
   "id": "661612df-5e84-4ebd-847a-ef136d1f1acb",
   "metadata": {},
   "outputs": [],
   "source": [
    "%load_ext dotenv\n",
    "%dotenv"
   ]
  },
  {
   "cell_type": "code",
   "execution_count": 17,
   "id": "dbc9d8c8-1cf0-4528-aad0-c01f1fb25086",
   "metadata": {},
   "outputs": [],
   "source": [
    "from utils import neo4j_driver, num_tokens_from_string, chunk_text, chat, embed\n",
    "import ch07_tools\n",
    "\n",
    "import json\n",
    "import requests\n",
    "\n",
    "from tqdm import tqdm\n",
    "from typing import List, Dict"
   ]
  },
  {
   "cell_type": "code",
   "execution_count": 3,
   "id": "e2e4999c-e98d-499e-89d5-e7d1730e7a55",
   "metadata": {},
   "outputs": [],
   "source": [
    "url = \"https://www.gutenberg.org/cache/epub/1727/pg1727.txt\"\n",
    "response = requests.get(url)"
   ]
  },
  {
   "cell_type": "code",
   "execution_count": 4,
   "id": "a9335794-0cc6-4d98-b10a-9f7d4b5c0c66",
   "metadata": {},
   "outputs": [],
   "source": [
    "def chunk_into_books(text: str) -> List[str]:\n",
    "    return (\n",
    "        text.split(\"PREFACE TO FIRST EDITION\")[2]\n",
    "        .split(\"FOOTNOTES\")[0]\n",
    "        .strip()\n",
    "        .split(\"\\nBOOK\")[1:]\n",
    "    )\n",
    "\n",
    "books = chunk_into_books(response.text)"
   ]
  },
  {
   "cell_type": "code",
   "execution_count": 5,
   "id": "eddeadc3-e491-49ba-8af7-f38fdfd8e3f7",
   "metadata": {},
   "outputs": [
    {
     "name": "stdout",
     "output_type": "stream",
     "text": [
      "There are 24 books with token sizes:\n",
      "- avg 6515.208333333333\n",
      "- min 4459\n",
      "- max 10760\n",
      "\n"
     ]
    }
   ],
   "source": [
    "token_count = [num_tokens_from_string(el) for el in books]\n",
    "print(\n",
    "    f\"\"\"There are {len(token_count)} books with token sizes:\n",
    "- avg {sum(token_count) / len(token_count)}\n",
    "- min {min(token_count)}\n",
    "- max {max(token_count)}\n",
    "\"\"\"\n",
    ")"
   ]
  },
  {
   "cell_type": "code",
   "execution_count": 6,
   "id": "d74c7143-2357-4f05-abc6-b6f18a229cc8",
   "metadata": {},
   "outputs": [],
   "source": [
    "chunked_books = [chunk_text(book, 1000, 40) for book in books]"
   ]
  },
  {
   "cell_type": "code",
   "execution_count": 7,
   "id": "cd158eb0-f79d-4746-bd18-856feb1ebe75",
   "metadata": {},
   "outputs": [],
   "source": [
    "ENTITY_TYPES = [\n",
    "    \"PERSON\",\n",
    "    \"ORGANIZATION\",\n",
    "    \"LOCATION\",\n",
    "    \"GOD\",\n",
    "    \"EVENT\",\n",
    "    \"CREATURE\",\n",
    "    \"WEAPON_OR_TOOL\",\n",
    "]\n",
    "def extract_entities(text: str) -> List[Dict]:\n",
    "    # Construct prompt\n",
    "    messages = [\n",
    "        {\"role\": \"user\", \"content\": ch07_tools.create_extraction_prompt(ENTITY_TYPES, text)},\n",
    "    ]\n",
    "    # Make the LLM call\n",
    "    output = chat(messages, model = \"gpt-4o\")\n",
    "    # Construct JSON from output\n",
    "    return ch07_tools.parse_extraction_output(output)"
   ]
  },
  {
   "cell_type": "code",
   "execution_count": 8,
   "id": "f23e32ad-1cc6-44cc-aa06-d3d142cdbfe6",
   "metadata": {},
   "outputs": [
    {
     "name": "stderr",
     "output_type": "stream",
     "text": [
      "Processing Books:   0%|          | 0/1 [00:00<?, ?it/s]\n",
      "Book 0:   0%|          | 0/22 [00:00<?, ?it/s]\u001b[A\n",
      "Book 0:   5%|▍         | 1/22 [00:09<03:11,  9.11s/it]\u001b[A\n",
      "Book 0:   9%|▉         | 2/22 [00:21<03:36, 10.84s/it]\u001b[A\n",
      "Book 0:  14%|█▎        | 3/22 [00:33<03:35, 11.34s/it]\u001b[A\n",
      "Book 0:  18%|█▊        | 4/22 [00:42<03:12, 10.70s/it]\u001b[A\n",
      "Book 0:  23%|██▎       | 5/22 [01:00<03:44, 13.18s/it]\u001b[A\n",
      "Book 0:  27%|██▋       | 6/22 [01:10<03:12, 12.00s/it]\u001b[A\n",
      "Book 0:  32%|███▏      | 7/22 [01:16<02:31, 10.12s/it]\u001b[A\n",
      "Book 0:  36%|███▋      | 8/22 [01:21<02:00,  8.57s/it]\u001b[A\n",
      "Book 0:  41%|████      | 9/22 [01:28<01:43,  7.99s/it]\u001b[A\n",
      "Book 0:  45%|████▌     | 10/22 [01:33<01:24,  7.06s/it]\u001b[A\n",
      "Book 0:  50%|█████     | 11/22 [01:44<01:31,  8.34s/it]\u001b[A\n",
      "Book 0:  55%|█████▍    | 12/22 [01:51<01:18,  7.86s/it]\u001b[A\n",
      "Book 0:  59%|█████▉    | 13/22 [02:06<01:30, 10.01s/it]\u001b[A\n",
      "Book 0:  64%|██████▎   | 14/22 [02:12<01:11,  8.91s/it]\u001b[A\n",
      "Book 0:  68%|██████▊   | 15/22 [02:20<01:00,  8.64s/it]\u001b[A\n",
      "Book 0:  73%|███████▎  | 16/22 [02:23<00:40,  6.77s/it]\u001b[A\n",
      "Book 0:  77%|███████▋  | 17/22 [02:32<00:37,  7.58s/it]\u001b[A\n",
      "Book 0:  82%|████████▏ | 18/22 [02:41<00:31,  7.87s/it]\u001b[A\n",
      "Book 0:  86%|████████▋ | 19/22 [02:50<00:24,  8.20s/it]\u001b[A\n",
      "Book 0:  91%|█████████ | 20/22 [02:57<00:16,  8.00s/it]\u001b[A\n",
      "Book 0:  95%|█████████▌| 21/22 [03:06<00:08,  8.28s/it]\u001b[A\n",
      "Book 0: 100%|██████████| 22/22 [03:09<00:00,  6.58s/it]\u001b[A\n",
      "Processing Books: 100%|██████████| 1/1 [03:09<00:00, 189.15s/it]\n"
     ]
    }
   ],
   "source": [
    "number_of_books = 1\n",
    "for book_i, book in enumerate(\n",
    "    tqdm(chunked_books[:number_of_books], desc=\"Processing Books\")\n",
    "):\n",
    "    for chunk_i, chunk in enumerate(tqdm(book, desc=f\"Book {book_i}\", leave=False)):\n",
    "        nodes, relationships = extract_entities(chunk)\n",
    "        neo4j_driver.execute_query(\n",
    "            ch07_tools.import_nodes_query,\n",
    "            data=nodes,\n",
    "            book_id=book_i,\n",
    "            text=chunk,\n",
    "            chunk_id=chunk_i,\n",
    "        )\n",
    "        neo4j_driver.execute_query(\n",
    "            ch07_tools.import_relationships_query, data=relationships\n",
    "        )"
   ]
  },
  {
   "cell_type": "code",
   "execution_count": 9,
   "id": "3f20b002-4547-47f5-9102-c6ad4f9060ea",
   "metadata": {},
   "outputs": [
    {
     "name": "stdout",
     "output_type": "stream",
     "text": [
      "[{'type': 'entity', 'count': 64}, {'type': 'relationship', 'count': 94}]\n"
     ]
    }
   ],
   "source": [
    "data, _, _ = neo4j_driver.execute_query(\n",
    "    \"\"\"MATCH (:`__Entity__`)\n",
    "    RETURN 'entity' AS type, count(*) AS count\n",
    "    UNION\n",
    "    MATCH ()-[:RELATIONSHIP]->()\n",
    "    RETURN 'relationship' AS type, count(*) AS count\n",
    "    \"\"\"\n",
    ")\n",
    "print([el.data() for el in data])"
   ]
  },
  {
   "cell_type": "code",
   "execution_count": 10,
   "id": "81559adb-5ec9-484a-aac2-815c0815a7f0",
   "metadata": {},
   "outputs": [
    {
     "name": "stdout",
     "output_type": "stream",
     "text": [
      "[[\"Orestes is Agamemnon's son who killed Aegisthus\", 'Orestes is a person who was expected to take revenge on Aegisthus', \"Orestes is praised for avenging his father's murder by killing Aegisthus\"]]\n"
     ]
    }
   ],
   "source": [
    "data, _, _ = neo4j_driver.execute_query(\n",
    "    \"\"\"MATCH (n:PERSON)\n",
    "WHERE n.name = \"ORESTES\"\n",
    "RETURN n.description AS description\"\"\"\n",
    ")\n",
    "print([el.data()['description'] for el in data])"
   ]
  },
  {
   "cell_type": "code",
   "execution_count": 11,
   "id": "3d95fa0b-9e60-461d-8dd0-e81e9d648fc5",
   "metadata": {},
   "outputs": [
    {
     "name": "stdout",
     "output_type": "stream",
     "text": [
      "[{'source': 'TELEMACHUS', 'target': 'MINERVA', 'countOfRels': 6, 'descriptions': ['Telemachus spoke quietly to Minerva during the banquet to avoid being overheard', 'Minerva, in disguise, advises and encourages Telemachus, giving him courage and making him think of his father', 'Minerva gave counsel to Telemachus regarding his intended voyage', 'Minerva plans to encourage Telemachus to seek news of his father', 'Minerva, in disguise, is noticed by Telemachus who welcomes her', 'Minerva is speaking to Telemachus, offering him guidance and reassurance']}]\n"
     ]
    }
   ],
   "source": [
    "data, _, _ = neo4j_driver.execute_query(\n",
    "    \"\"\"MATCH (n:__Entity__)-[:RELATIONSHIP]-(m:__Entity__)\n",
    "WITH n,m, count(*) AS countOfRels\n",
    "ORDER BY countOfRels DESC LIMIT 1\n",
    "MATCH (n)-[r:RELATIONSHIP]-(m)\n",
    "RETURN n.name AS source, m.name AS target, countOfRels, collect(r.description) AS descriptions\n",
    "\"\"\"\n",
    ")\n",
    "print([el.data() for el in data])"
   ]
  },
  {
   "cell_type": "code",
   "execution_count": 12,
   "id": "ea5a61d4-11a0-4bc6-8d9f-48d7bdb6f17d",
   "metadata": {},
   "outputs": [
    {
     "name": "stderr",
     "output_type": "stream",
     "text": [
      "Summarizing entities: 100%|██████████| 25/25 [01:06<00:00,  2.67s/it]\n"
     ]
    }
   ],
   "source": [
    "candidates_to_summarize, _, _ = neo4j_driver.execute_query(\n",
    "    \"\"\"MATCH (e:__Entity__) WHERE size(e.description) > 1 \n",
    "    RETURN e.name AS entity_name, e.description AS description_list\"\"\"\n",
    ")\n",
    "summaries = []\n",
    "for candidate in tqdm(candidates_to_summarize, desc=\"Summarizing entities\"):\n",
    "    messages = [\n",
    "        {\n",
    "            \"role\": \"user\",\n",
    "            \"content\": ch07_tools.get_summarize_prompt(\n",
    "                candidate[\"entity_name\"], candidate[\"description_list\"]\n",
    "            ),\n",
    "        },\n",
    "    ]\n",
    "    summary = chat(messages, model=\"gpt-4o\")\n",
    "    summaries.append({\"entity\": candidate[\"entity_name\"], \"summary\": summary})\n",
    "\n",
    "ch07_tools.import_entity_summary(neo4j_driver, summaries)"
   ]
  },
  {
   "cell_type": "code",
   "execution_count": 13,
   "id": "592e9949-108a-45f8-baf8-b905f9d235b2",
   "metadata": {},
   "outputs": [
    {
     "name": "stdout",
     "output_type": "stream",
     "text": [
      "Orestes is the son of Agamemnon, known for avenging his father's murder by killing Aegisthus. He was expected to take revenge on Aegisthus, and his actions in fulfilling this expectation have been praised.\n"
     ]
    }
   ],
   "source": [
    "summary, _, _ = neo4j_driver.execute_query(\n",
    "    \"\"\"MATCH (n:PERSON)\n",
    "WHERE n.name = \"ORESTES\"\n",
    "RETURN n.summary AS summary\"\"\")\n",
    "print(summary[0]['summary'])"
   ]
  },
  {
   "cell_type": "code",
   "execution_count": 14,
   "id": "2b4c1373-7fdd-4712-8d03-4029735af0be",
   "metadata": {},
   "outputs": [
    {
     "name": "stderr",
     "output_type": "stream",
     "text": [
      "Summarizing relationships: 100%|██████████| 12/12 [00:28<00:00,  2.37s/it]\n"
     ]
    }
   ],
   "source": [
    "rels_to_summarize, _, _ = neo4j_driver.execute_query(\n",
    "    \"\"\"MATCH (s:__Entity__)-[r:RELATIONSHIP]-(t:__Entity__)\n",
    "    WHERE id(s) < id(t)\n",
    "    WITH s.name AS source, t.name AS target, \n",
    "           collect(r.description) AS description_list,\n",
    "           count(*) AS count\n",
    "    WHERE count > 1\n",
    "    RETURN source, target, description_list\"\"\"\n",
    ")\n",
    "rel_summaries = []\n",
    "for candidate in tqdm(rels_to_summarize, desc=\"Summarizing relationships\"):\n",
    "    entity_name = f\"{candidate['source']} relationship to {candidate['target']}\"\n",
    "    messages = [\n",
    "        {\n",
    "            \"role\": \"user\",\n",
    "            \"content\": ch07_tools.get_summarize_prompt(\n",
    "                entity_name, candidate[\"description_list\"]\n",
    "            ),\n",
    "        },\n",
    "    ]\n",
    "    summary = chat(messages, model=\"gpt-4o\")\n",
    "    rel_summaries.append({\"source\": candidate[\"source\"], \"target\": candidate[\"target\"], \"summary\": summary})\n",
    "\n",
    "ch07_tools.import_rels_summary(neo4j_driver, summaries)"
   ]
  },
  {
   "cell_type": "code",
   "execution_count": 15,
   "id": "5d6f2d39-cca1-4fea-a5e6-c7481fe12ff7",
   "metadata": {},
   "outputs": [
    {
     "name": "stdout",
     "output_type": "stream",
     "text": [
      "Minerva is speaking to Telemachus, offering him guidance and reassurance\n"
     ]
    }
   ],
   "source": [
    "data, _, _ = neo4j_driver.execute_query(\n",
    "    \"\"\"MATCH (n:__Entity__)-[r:SUMMARIZED_RELATIONSHIP]-(m:__Entity__)\n",
    "WHERE n.name = 'TELEMACHUS' AND m.name = 'MINERVA'\n",
    "RETURN r.summary AS description\n",
    "\"\"\"\n",
    ")\n",
    "print(data[0][\"description\"])"
   ]
  },
  {
   "cell_type": "code",
   "execution_count": 16,
   "id": "f66d59ea-04f4-42da-9a70-fcb3eb967383",
   "metadata": {},
   "outputs": [
    {
     "name": "stdout",
     "output_type": "stream",
     "text": [
      "There are 9 communities with distribution: {'min': 2, 'p5': 2, 'max': 13, 'p999': 13, 'p99': 13, 'p1': 2, 'p10': 2, 'p90': 13, 'p50': 5, 'p25': 2, 'p75': 9, 'p95': 13, 'mean': 6.333333333333333}\n"
     ]
    }
   ],
   "source": [
    "community_distribution = ch07_tools.calculate_communities(neo4j_driver)\n",
    "print(f\"There are {community_distribution['communityCount']} communities with distribution: {community_distribution['communityDistribution']}\")"
   ]
  },
  {
   "cell_type": "code",
   "execution_count": 17,
   "id": "dfacaf80-218d-4209-9a68-56c94b003f8c",
   "metadata": {},
   "outputs": [
    {
     "name": "stderr",
     "output_type": "stream",
     "text": [
      "Summarizing communities: 100%|██████████| 9/9 [02:29<00:00, 16.61s/it]\n"
     ]
    },
    {
     "data": {
      "text/plain": [
       "EagerResult(records=[], summary=<neo4j._work.summary.ResultSummary object at 0x13fa44c10>, keys=[])"
      ]
     },
     "execution_count": 17,
     "metadata": {},
     "output_type": "execute_result"
    }
   ],
   "source": [
    "community_info, _, _ = neo4j_driver.execute_query(ch07_tools.community_info_query)\n",
    "\n",
    "communities = []\n",
    "for community in tqdm(community_info, desc=\"Summarizing communities\"):\n",
    "    # Construct prompt\n",
    "    messages = [\n",
    "        {\n",
    "            \"role\": \"user\",\n",
    "            \"content\": ch07_tools.get_summarize_community_prompt(\n",
    "                community[\"nodes\"], community[\"rels\"]\n",
    "            ),\n",
    "        },\n",
    "    ]\n",
    "    # Make the LLM call\n",
    "    summary = chat(messages, model=\"gpt-4o\")\n",
    "    communities.append(\n",
    "        {\n",
    "            \"community\": json.loads(ch07_tools.extract_json(summary)),\n",
    "            \"communityId\": community[\"communityId\"],\n",
    "            \"nodes\": [el[\"id\"] for el in community[\"nodes\"]],\n",
    "        }\n",
    "    )\n",
    "\n",
    "neo4j_driver.execute_query(ch07_tools.import_community_query, data=communities)"
   ]
  },
  {
   "cell_type": "code",
   "execution_count": 18,
   "id": "242c363b-822b-4eb4-a4bd-3c0b6b0fa6eb",
   "metadata": {},
   "outputs": [
    {
     "name": "stdout",
     "output_type": "stream",
     "text": [
      "Minerva, Telemachus, and the Ithacan Household\n",
      "The community centers around Minerva, Telemachus, and the household of Ulysses, with significant interactions involving divine guidance, familial loyalty, and the challenges posed by suitors. Minerva plays a pivotal role in advising Telemachus, who is determined to find his father and restore order to his home. The relationships among these entities highlight themes of wisdom, courage, and resilience.\n"
     ]
    }
   ],
   "source": [
    "data, _, _ = neo4j_driver.execute_query(\n",
    "    \"\"\"MATCH (c:__Community__)\n",
    "WITH c, count {(c)<-[:IN_COMMUNITY]-()} AS size\n",
    "ORDER BY size DESC LIMIT 1\n",
    "RETURN c.title AS title, c.summary AS summary\n",
    "\"\"\"\n",
    ")\n",
    "print(data[0][\"title\"])\n",
    "print(data[0][\"summary\"])"
   ]
  },
  {
   "cell_type": "code",
   "execution_count": 14,
   "id": "58115fda-82ee-40fa-a58d-eac722f1f853",
   "metadata": {},
   "outputs": [],
   "source": [
    "def global_retriever(query: str, rating: float = 5) -> str:\n",
    "    community_data, _, _ = neo4j_driver.execute_query(\n",
    "        \"\"\"\n",
    "    MATCH (c:__Community__)\n",
    "    WHERE c.rating >= $rating\n",
    "    RETURN c.summary AS summary\n",
    "    \"\"\",\n",
    "        rating=rating,\n",
    "    )\n",
    "    print(f\"Got {len(community_data)} community summaries\")\n",
    "    intermediate_results = []\n",
    "    for community in tqdm(community_data, desc=\"Processing communities\"):\n",
    "        intermediate_messages = [\n",
    "            {\n",
    "                \"role\": \"system\",\n",
    "                \"content\": ch07_tools.get_map_system_prompt(community[\"summary\"]),\n",
    "            },\n",
    "            {\n",
    "                \"role\": \"user\",\n",
    "                \"content\": query,\n",
    "            },\n",
    "        ]\n",
    "        intermediate_response = chat(intermediate_messages, model=\"gpt-4o\")\n",
    "        intermediate_results.append(intermediate_response)\n",
    "\n",
    "    final_messages = [\n",
    "        {\n",
    "            \"role\": \"system\",\n",
    "            \"content\": ch07_tools.get_reduce_system_prompt(intermediate_results),\n",
    "        },\n",
    "        {\"role\": \"user\", \"content\": query},\n",
    "    ]\n",
    "    summary = chat(final_messages, model=\"gpt-4o\")\n",
    "    return summary"
   ]
  },
  {
   "cell_type": "code",
   "execution_count": 16,
   "id": "f8b2d347-03b0-4aef-85c1-09c2259e194d",
   "metadata": {},
   "outputs": [
    {
     "name": "stdout",
     "output_type": "stream",
     "text": [
      "Got 7 community summaries\n"
     ]
    },
    {
     "name": "stderr",
     "output_type": "stream",
     "text": [
      "Processing communities: 100%|██████████| 7/7 [00:47<00:00,  6.80s/it]\n"
     ]
    },
    {
     "name": "stdout",
     "output_type": "stream",
     "text": [
      "The story revolves around the intricate dynamics of a community involving key figures such as Minerva, Telemachus, and the household of Ulysses. Central themes include divine guidance, familial loyalty, and the challenges posed by suitors. Minerva plays a crucial role in advising Telemachus, who is determined to find his father, Ulysses, and restore order to his home. The relationships among the characters emphasize themes of wisdom, courage, and resilience.\n",
      "\n",
      "Additionally, the narrative highlights the role of Mentes, the chief of the Taphians, who is recognized as the son of Anchialus. Mentes is involved in a voyage to Temesa, known for its iron cargo, and claims kingship over the Taphians [Data: Reports (1)]. The story also centers around Odysseus, a key figure in Greek mythology, and his connections with other significant entities such as the Achaeans, Laertes, and the gods. The relationships in the story underscore the impact of divine intervention on human affairs, showcasing how the gods influence the lives of Greek heroes [Data: Reports (1, 2, 3, 4, 5)].\n",
      "\n",
      "Furthermore, the narrative explores the mythological elements involving Olympian Jove, Aegisthus, Agamemnon, Orestes, and Mercury. It highlights themes of divine intervention, betrayal, and vengeance. Olympian Jove discusses the actions of Aegisthus, notorious for his betrayal and murder of Agamemnon, while Orestes avenges his father's death by killing Aegisthus, despite warnings from Mercury [Data: Reports (1, 2, 3, 4, 5)]. These interconnected stories weave a rich tapestry of mythological and heroic elements, emphasizing the enduring legacy and challenges faced by these legendary figures.\n"
     ]
    }
   ],
   "source": [
    "print(global_retriever(\"What is this story about?\"))"
   ]
  },
  {
   "cell_type": "code",
   "execution_count": 22,
   "id": "e021f02e-283a-4b75-85dc-2d32de31b602",
   "metadata": {},
   "outputs": [
    {
     "data": {
      "text/plain": [
       "EagerResult(records=[], summary=<neo4j._work.summary.ResultSummary object at 0x17b2c9bd0>, keys=[])"
      ]
     },
     "execution_count": 22,
     "metadata": {},
     "output_type": "execute_result"
    }
   ],
   "source": [
    "entities, _, _ = neo4j_driver.execute_query(\n",
    "    \"\"\"\n",
    "MATCH (e:__Entity__)\n",
    "RETURN e.summary AS summary, e.name AS name\n",
    "\"\"\"\n",
    ")\n",
    "data = [{\"name\": el[\"name\"], \"embedding\": embed(el[\"summary\"])[0]} for el in entities]\n",
    "neo4j_driver.execute_query(\n",
    "    \"\"\"\n",
    "UNWIND $data AS row\n",
    "MATCH (e:__Entity__ {name: row.name})\n",
    "CALL db.create.setNodeVectorProperty(e, 'embedding', row.embedding)\n",
    "\"\"\",\n",
    "    data=data,\n",
    ")\n",
    "\n",
    "neo4j_driver.execute_query(\n",
    "    \"\"\"\n",
    "CREATE VECTOR INDEX entities IF NOT EXISTS\n",
    "FOR (n:__Entity__)\n",
    "ON (n.embedding)\n",
    "\"\"\",\n",
    "    data=data,\n",
    ")\n"
   ]
  },
  {
   "cell_type": "code",
   "execution_count": null,
   "id": "a0487950-50f8-45fe-a438-389000f40d23",
   "metadata": {},
   "outputs": [],
   "source": []
  }
 ],
 "metadata": {
  "kernelspec": {
   "display_name": "Python 3 (ipykernel)",
   "language": "python",
   "name": "python3"
  },
  "language_info": {
   "codemirror_mode": {
    "name": "ipython",
    "version": 3
   },
   "file_extension": ".py",
   "mimetype": "text/x-python",
   "name": "python",
   "nbconvert_exporter": "python",
   "pygments_lexer": "ipython3",
   "version": "3.11.5"
  }
 },
 "nbformat": 4,
 "nbformat_minor": 5
}
