{
 "cells": [
  {
   "cell_type": "code",
   "execution_count": 1,
   "id": "fd2f4fa6-11e4-4ed1-b734-215a9351385c",
   "metadata": {},
   "outputs": [],
   "source": [
    "%load_ext dotenv\n",
    "%dotenv"
   ]
  },
  {
   "cell_type": "code",
   "execution_count": 2,
   "id": "eb5cd849-5b12-44fe-932b-66f15898d561",
   "metadata": {},
   "outputs": [
    {
     "name": "stderr",
     "output_type": "stream",
     "text": [
      "/Users/tomazbratanic/anaconda3/lib/python3.11/site-packages/pandas/core/arrays/masked.py:60: UserWarning: Pandas requires version '1.3.6' or newer of 'bottleneck' (version '1.3.5' currently installed).\n",
      "  from pandas.core import (\n",
      "/Users/tomazbratanic/anaconda3/lib/python3.11/site-packages/pydantic/_internal/_fields.py:132: UserWarning: Field \"model_name\" in _VertexAIBase has conflict with protected namespace \"model_\".\n",
      "\n",
      "You may be able to resolve this warning by setting `model_config['protected_namespaces'] = ()`.\n",
      "  warnings.warn(\n",
      "/Users/tomazbratanic/anaconda3/lib/python3.11/site-packages/pydantic/_internal/_fields.py:132: UserWarning: Field \"model_name\" in _VertexAICommon has conflict with protected namespace \"model_\".\n",
      "\n",
      "You may be able to resolve this warning by setting `model_config['protected_namespaces'] = ()`.\n",
      "  warnings.warn(\n"
     ]
    }
   ],
   "source": [
    "import pandas as pd\n",
    "from ch07_tools import get_answer\n",
    "from datasets import Dataset\n",
    "from ragas import evaluate\n",
    "from ragas.metrics import answer_correctness\n",
    "from tqdm import tqdm\n",
    "from utils import neo4j_driver\n"
   ]
  },
  {
   "cell_type": "code",
   "execution_count": 3,
   "id": "f7917c60-279d-4fcf-ad6a-f2a379a6bde7",
   "metadata": {},
   "outputs": [
    {
     "data": {
      "text/plain": [
       "'There are 38 movies in total.'"
      ]
     },
     "execution_count": 3,
     "metadata": {},
     "output_type": "execute_result"
    }
   ],
   "source": [
    "get_answer(\"How many movies are there?\")"
   ]
  },
  {
   "cell_type": "code",
   "execution_count": 4,
   "id": "96ae8eca-d935-4897-8382-d1030401f0e9",
   "metadata": {},
   "outputs": [
    {
     "data": {
      "text/html": [
       "<div>\n",
       "<style scoped>\n",
       "    .dataframe tbody tr th:only-of-type {\n",
       "        vertical-align: middle;\n",
       "    }\n",
       "\n",
       "    .dataframe tbody tr th {\n",
       "        vertical-align: top;\n",
       "    }\n",
       "\n",
       "    .dataframe thead th {\n",
       "        text-align: right;\n",
       "    }\n",
       "</style>\n",
       "<table border=\"1\" class=\"dataframe\">\n",
       "  <thead>\n",
       "    <tr style=\"text-align: right;\">\n",
       "      <th></th>\n",
       "      <th>question</th>\n",
       "      <th>cypher</th>\n",
       "    </tr>\n",
       "  </thead>\n",
       "  <tbody>\n",
       "    <tr>\n",
       "      <th>0</th>\n",
       "      <td>How many movies are there?</td>\n",
       "      <td>MATCH (m:Movie) RETURN count(*) AS movies</td>\n",
       "    </tr>\n",
       "    <tr>\n",
       "      <th>1</th>\n",
       "      <td>Who acted in the most movies?</td>\n",
       "      <td>MATCH (p:Person)-[:ACTED_IN]-&gt;(m:Movie)\\nRETUR...</td>\n",
       "    </tr>\n",
       "    <tr>\n",
       "      <th>2</th>\n",
       "      <td>Which movies released between 1990 and 2000 ha...</td>\n",
       "      <td>MATCH (m:Movie) WHERE m.released &gt;= 1990 AND m...</td>\n",
       "    </tr>\n",
       "    <tr>\n",
       "      <th>3</th>\n",
       "      <td>Who has the longest name among all actors?</td>\n",
       "      <td>MATCH (p:Person)-[:ACTED_IN]-&gt;(:Movie) RETURN ...</td>\n",
       "    </tr>\n",
       "    <tr>\n",
       "      <th>4</th>\n",
       "      <td>List people born before 1940.</td>\n",
       "      <td>MATCH (p:Person) WHERE p.born &lt; 1940 RETURN p....</td>\n",
       "    </tr>\n",
       "  </tbody>\n",
       "</table>\n",
       "</div>"
      ],
      "text/plain": [
       "                                            question  \\\n",
       "0                         How many movies are there?   \n",
       "1                      Who acted in the most movies?   \n",
       "2  Which movies released between 1990 and 2000 ha...   \n",
       "3         Who has the longest name among all actors?   \n",
       "4                      List people born before 1940.   \n",
       "\n",
       "                                              cypher  \n",
       "0          MATCH (m:Movie) RETURN count(*) AS movies  \n",
       "1  MATCH (p:Person)-[:ACTED_IN]->(m:Movie)\\nRETUR...  \n",
       "2  MATCH (m:Movie) WHERE m.released >= 1990 AND m...  \n",
       "3  MATCH (p:Person)-[:ACTED_IN]->(:Movie) RETURN ...  \n",
       "4  MATCH (p:Person) WHERE p.born < 1940 RETURN p....  "
      ]
     },
     "execution_count": 4,
     "metadata": {},
     "output_type": "execute_result"
    }
   ],
   "source": [
    "test_data = pd.read_csv(\"../data/benchmark_data.csv\", delimiter=\";\")\n",
    "test_data.head()"
   ]
  },
  {
   "cell_type": "code",
   "execution_count": 5,
   "id": "071f082d-52d6-4e26-b158-52df8af1a670",
   "metadata": {},
   "outputs": [
    {
     "name": "stderr",
     "output_type": "stream",
     "text": [
      "Processing rows:  80%|████████  | 8/10 [02:27<00:28, 14.45s/it]Received notification from DBMS server: {severity: WARNING} {code: Neo.ClientNotification.Statement.AggregationSkippedNull} {category: UNRECOGNIZED} {title: The query contains an aggregation function that skips null values.} {description: null value eliminated in set function.} {position: None} for query: '\\n    MATCH (a:Person)-[:ACTED_IN]->(m:Movie)\\n    OPTIONAL MATCH (m)<-[:ACTED_IN]-(a:Person)\\n    OPTIONAL MATCH (m)<-[:DIRECTED]-(d:Person)\\n    WHERE toLower(a.name) CONTAINS $actor\\n    RETURN m AS movie, collect(a.name) AS cast, collect(d.name) AS directors\\n    '\n",
      "Received notification from DBMS server: {severity: WARNING} {code: Neo.ClientNotification.Statement.AggregationSkippedNull} {category: UNRECOGNIZED} {title: The query contains an aggregation function that skips null values.} {description: null value eliminated in set function.} {position: None} for query: '\\n    MATCH (a:Person)-[:ACTED_IN]->(m:Movie)\\n    OPTIONAL MATCH (m)<-[:ACTED_IN]-(a:Person)\\n    OPTIONAL MATCH (m)<-[:DIRECTED]-(d:Person)\\n    WHERE toLower(a.name) CONTAINS $actor\\n    RETURN m AS movie, collect(a.name) AS cast, collect(d.name) AS directors\\n    '\n",
      "Processing rows: 100%|██████████| 10/10 [02:54<00:00, 17.44s/it]\n"
     ]
    }
   ],
   "source": [
    "answers = []\n",
    "ground_truths = []\n",
    "\n",
    "for i, row in tqdm(test_data.iterrows(), total=len(test_data), desc=\"Processing rows\"):\n",
    "    ground_truth, _, _ = neo4j_driver.execute_query(row[\"cypher\"])\n",
    "    ground_truths.append([el.data() for el in ground_truth])\n",
    "    try:\n",
    "        answer = get_answer(row[\"question\"])\n",
    "    except Exception:\n",
    "        answer = None\n",
    "    answers.append(answer)"
   ]
  },
  {
   "cell_type": "code",
   "execution_count": 6,
   "id": "e98b4096-1740-4892-a43d-dc5fbceb149d",
   "metadata": {},
   "outputs": [],
   "source": [
    "test_data['ground_truth'] = str(ground_truths)\n",
    "test_data['answer'] = answers"
   ]
  },
  {
   "cell_type": "code",
   "execution_count": 7,
   "id": "d2f780eb-fe06-41fe-a3a7-d9a0ae1c9827",
   "metadata": {},
   "outputs": [
    {
     "data": {
      "text/html": [
       "<div>\n",
       "<style scoped>\n",
       "    .dataframe tbody tr th:only-of-type {\n",
       "        vertical-align: middle;\n",
       "    }\n",
       "\n",
       "    .dataframe tbody tr th {\n",
       "        vertical-align: top;\n",
       "    }\n",
       "\n",
       "    .dataframe thead th {\n",
       "        text-align: right;\n",
       "    }\n",
       "</style>\n",
       "<table border=\"1\" class=\"dataframe\">\n",
       "  <thead>\n",
       "    <tr style=\"text-align: right;\">\n",
       "      <th></th>\n",
       "      <th>question</th>\n",
       "      <th>cypher</th>\n",
       "      <th>ground_truth</th>\n",
       "      <th>answer</th>\n",
       "    </tr>\n",
       "  </thead>\n",
       "  <tbody>\n",
       "    <tr>\n",
       "      <th>0</th>\n",
       "      <td>How many movies are there?</td>\n",
       "      <td>MATCH (m:Movie) RETURN count(*) AS movies</td>\n",
       "      <td>[[{'movies': 38}], [{'p.name': 'Tom Hanks', 'm...</td>\n",
       "      <td>There are 38 movies in total.</td>\n",
       "    </tr>\n",
       "    <tr>\n",
       "      <th>1</th>\n",
       "      <td>Who acted in the most movies?</td>\n",
       "      <td>MATCH (p:Person)-[:ACTED_IN]-&gt;(m:Movie)\\nRETUR...</td>\n",
       "      <td>[[{'movies': 38}], [{'p.name': 'Tom Hanks', 'm...</td>\n",
       "      <td>The actor who acted in the most movies is Tom ...</td>\n",
       "    </tr>\n",
       "    <tr>\n",
       "      <th>2</th>\n",
       "      <td>Which movies released between 1990 and 2000 ha...</td>\n",
       "      <td>MATCH (m:Movie) WHERE m.released &gt;= 1990 AND m...</td>\n",
       "      <td>[[{'movies': 38}], [{'p.name': 'Tom Hanks', 'm...</td>\n",
       "      <td>The only movie released between 1990 and 2000 ...</td>\n",
       "    </tr>\n",
       "    <tr>\n",
       "      <th>3</th>\n",
       "      <td>Who has the longest name among all actors?</td>\n",
       "      <td>MATCH (p:Person)-[:ACTED_IN]-&gt;(:Movie) RETURN ...</td>\n",
       "      <td>[[{'movies': 38}], [{'p.name': 'Tom Hanks', 'm...</td>\n",
       "      <td>None</td>\n",
       "    </tr>\n",
       "    <tr>\n",
       "      <th>4</th>\n",
       "      <td>List people born before 1940.</td>\n",
       "      <td>MATCH (p:Person) WHERE p.born &lt; 1940 RETURN p....</td>\n",
       "      <td>[[{'movies': 38}], [{'p.name': 'Tom Hanks', 'm...</td>\n",
       "      <td>The people born before 1940 are:\\n\\n- Max von ...</td>\n",
       "    </tr>\n",
       "    <tr>\n",
       "      <th>5</th>\n",
       "      <td>Who was born in 1965 and has directed a movie?</td>\n",
       "      <td>MATCH (p:Person)-[:DIRECTED]-&gt;(m:Movie) WHERE ...</td>\n",
       "      <td>[[{'movies': 38}], [{'p.name': 'Tom Hanks', 'm...</td>\n",
       "      <td>The people born in 1965 who have directed a mo...</td>\n",
       "    </tr>\n",
       "    <tr>\n",
       "      <th>6</th>\n",
       "      <td>Who acted in Top Gun?</td>\n",
       "      <td>MATCH (p:Person)-[:ACTED_IN]-&gt;(m:Movie {title:...</td>\n",
       "      <td>[[{'movies': 38}], [{'p.name': 'Tom Hanks', 'm...</td>\n",
       "      <td>The actors who acted in \"Top Gun\" are Val Kilm...</td>\n",
       "    </tr>\n",
       "    <tr>\n",
       "      <th>7</th>\n",
       "      <td>List the movies with a title starting with \"The\"</td>\n",
       "      <td>MATCH (m:Movie) WHERE m.title STARTS WITH \"The...</td>\n",
       "      <td>[[{'movies': 38}], [{'p.name': 'Tom Hanks', 'm...</td>\n",
       "      <td>The movies with a title starting with \"The\" ar...</td>\n",
       "    </tr>\n",
       "    <tr>\n",
       "      <th>8</th>\n",
       "      <td>How many movies did Tom Hanks appear in?</td>\n",
       "      <td>MATCH (p:Person {name: \"Tom Hanks\"})-[:ACTED_I...</td>\n",
       "      <td>[[{'movies': 38}], [{'p.name': 'Tom Hanks', 'm...</td>\n",
       "      <td>Tom Hanks appeared in 12 movies.</td>\n",
       "    </tr>\n",
       "    <tr>\n",
       "      <th>9</th>\n",
       "      <td>Who played in the Matrix?</td>\n",
       "      <td>MATCH (p:Person)-[:ACTED_IN]-&gt;(m:Movie {title:...</td>\n",
       "      <td>[[{'movies': 38}], [{'p.name': 'Tom Hanks', 'm...</td>\n",
       "      <td>The main cast members of \"The Matrix\" include ...</td>\n",
       "    </tr>\n",
       "  </tbody>\n",
       "</table>\n",
       "</div>"
      ],
      "text/plain": [
       "                                            question  \\\n",
       "0                         How many movies are there?   \n",
       "1                      Who acted in the most movies?   \n",
       "2  Which movies released between 1990 and 2000 ha...   \n",
       "3         Who has the longest name among all actors?   \n",
       "4                      List people born before 1940.   \n",
       "5     Who was born in 1965 and has directed a movie?   \n",
       "6                              Who acted in Top Gun?   \n",
       "7   List the movies with a title starting with \"The\"   \n",
       "8           How many movies did Tom Hanks appear in?   \n",
       "9                          Who played in the Matrix?   \n",
       "\n",
       "                                              cypher  \\\n",
       "0          MATCH (m:Movie) RETURN count(*) AS movies   \n",
       "1  MATCH (p:Person)-[:ACTED_IN]->(m:Movie)\\nRETUR...   \n",
       "2  MATCH (m:Movie) WHERE m.released >= 1990 AND m...   \n",
       "3  MATCH (p:Person)-[:ACTED_IN]->(:Movie) RETURN ...   \n",
       "4  MATCH (p:Person) WHERE p.born < 1940 RETURN p....   \n",
       "5  MATCH (p:Person)-[:DIRECTED]->(m:Movie) WHERE ...   \n",
       "6  MATCH (p:Person)-[:ACTED_IN]->(m:Movie {title:...   \n",
       "7  MATCH (m:Movie) WHERE m.title STARTS WITH \"The...   \n",
       "8  MATCH (p:Person {name: \"Tom Hanks\"})-[:ACTED_I...   \n",
       "9  MATCH (p:Person)-[:ACTED_IN]->(m:Movie {title:...   \n",
       "\n",
       "                                        ground_truth  \\\n",
       "0  [[{'movies': 38}], [{'p.name': 'Tom Hanks', 'm...   \n",
       "1  [[{'movies': 38}], [{'p.name': 'Tom Hanks', 'm...   \n",
       "2  [[{'movies': 38}], [{'p.name': 'Tom Hanks', 'm...   \n",
       "3  [[{'movies': 38}], [{'p.name': 'Tom Hanks', 'm...   \n",
       "4  [[{'movies': 38}], [{'p.name': 'Tom Hanks', 'm...   \n",
       "5  [[{'movies': 38}], [{'p.name': 'Tom Hanks', 'm...   \n",
       "6  [[{'movies': 38}], [{'p.name': 'Tom Hanks', 'm...   \n",
       "7  [[{'movies': 38}], [{'p.name': 'Tom Hanks', 'm...   \n",
       "8  [[{'movies': 38}], [{'p.name': 'Tom Hanks', 'm...   \n",
       "9  [[{'movies': 38}], [{'p.name': 'Tom Hanks', 'm...   \n",
       "\n",
       "                                              answer  \n",
       "0                      There are 38 movies in total.  \n",
       "1  The actor who acted in the most movies is Tom ...  \n",
       "2  The only movie released between 1990 and 2000 ...  \n",
       "3                                               None  \n",
       "4  The people born before 1940 are:\\n\\n- Max von ...  \n",
       "5  The people born in 1965 who have directed a mo...  \n",
       "6  The actors who acted in \"Top Gun\" are Val Kilm...  \n",
       "7  The movies with a title starting with \"The\" ar...  \n",
       "8                   Tom Hanks appeared in 12 movies.  \n",
       "9  The main cast members of \"The Matrix\" include ...  "
      ]
     },
     "execution_count": 7,
     "metadata": {},
     "output_type": "execute_result"
    }
   ],
   "source": [
    "test_data"
   ]
  },
  {
   "cell_type": "code",
   "execution_count": 8,
   "id": "c4ba84fe-e23a-48b0-adeb-6942ed3fdaa5",
   "metadata": {},
   "outputs": [
    {
     "data": {
      "application/vnd.jupyter.widget-view+json": {
       "model_id": "1e28320507cc4bf1935d6da2624924fd",
       "version_major": 2,
       "version_minor": 0
      },
      "text/plain": [
       "Evaluating:   0%|          | 0/10 [00:00<?, ?it/s]"
      ]
     },
     "metadata": {},
     "output_type": "display_data"
    }
   ],
   "source": [
    "dataset = Dataset.from_pandas(test_data.fillna(\"I don't know\"))\n",
    "result = evaluate(\n",
    "    dataset,\n",
    "    metrics=[\n",
    "        answer_correctness\n",
    "    ]\n",
    ")"
   ]
  },
  {
   "cell_type": "code",
   "execution_count": 9,
   "id": "61e5598b-26e1-4113-a1e6-0c24ddd9743d",
   "metadata": {},
   "outputs": [
    {
     "data": {
      "text/plain": [
       "{'answer_correctness': 0.6850}"
      ]
     },
     "execution_count": 9,
     "metadata": {},
     "output_type": "execute_result"
    }
   ],
   "source": [
    "result"
   ]
  },
  {
   "cell_type": "code",
   "execution_count": null,
   "id": "6c4f7fcd-2b0f-422c-8444-c075d72fa7c1",
   "metadata": {},
   "outputs": [],
   "source": []
  }
 ],
 "metadata": {
  "kernelspec": {
   "display_name": "Python 3 (ipykernel)",
   "language": "python",
   "name": "python3"
  },
  "language_info": {
   "codemirror_mode": {
    "name": "ipython",
    "version": 3
   },
   "file_extension": ".py",
   "mimetype": "text/x-python",
   "name": "python",
   "nbconvert_exporter": "python",
   "pygments_lexer": "ipython3",
   "version": "3.11.5"
  }
 },
 "nbformat": 4,
 "nbformat_minor": 5
}
