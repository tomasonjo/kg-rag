{
 "cells": [
  {
   "cell_type": "code",
   "execution_count": 1,
   "id": "fd2f4fa6-11e4-4ed1-b734-215a9351385c",
   "metadata": {},
   "outputs": [],
   "source": [
    "%load_ext dotenv\n",
    "%dotenv"
   ]
  },
  {
   "cell_type": "code",
   "execution_count": 2,
   "id": "eb5cd849-5b12-44fe-932b-66f15898d561",
   "metadata": {},
   "outputs": [
    {
     "name": "stderr",
     "output_type": "stream",
     "text": [
      "/Users/tomazbratanic/anaconda3/lib/python3.11/site-packages/pandas/core/arrays/masked.py:60: UserWarning: Pandas requires version '1.3.6' or newer of 'bottleneck' (version '1.3.5' currently installed).\n",
      "  from pandas.core import (\n",
      "/Users/tomazbratanic/anaconda3/lib/python3.11/site-packages/pydantic/_internal/_fields.py:132: UserWarning: Field \"model_name\" in _VertexAIBase has conflict with protected namespace \"model_\".\n",
      "\n",
      "You may be able to resolve this warning by setting `model_config['protected_namespaces'] = ()`.\n",
      "  warnings.warn(\n",
      "/Users/tomazbratanic/anaconda3/lib/python3.11/site-packages/pydantic/_internal/_fields.py:132: UserWarning: Field \"model_name\" in _VertexAICommon has conflict with protected namespace \"model_\".\n",
      "\n",
      "You may be able to resolve this warning by setting `model_config['protected_namespaces'] = ()`.\n",
      "  warnings.warn(\n"
     ]
    }
   ],
   "source": [
    "import pandas as pd\n",
    "from ch07_tools import get_answer\n",
    "from datasets import Dataset\n",
    "from ragas import evaluate\n",
    "from ragas.metrics import answer_correctness\n",
    "from tqdm import tqdm\n",
    "from utils import neo4j_driver\n"
   ]
  },
  {
   "cell_type": "code",
   "execution_count": 3,
   "id": "f7917c60-279d-4fcf-ad6a-f2a379a6bde7",
   "metadata": {},
   "outputs": [
    {
     "data": {
      "text/plain": [
       "'There are 38 movies in total.'"
      ]
     },
     "execution_count": 3,
     "metadata": {},
     "output_type": "execute_result"
    }
   ],
   "source": [
    "get_answer(\"How many movies are there?\")"
   ]
  },
  {
   "cell_type": "code",
   "execution_count": 4,
   "id": "96ae8eca-d935-4897-8382-d1030401f0e9",
   "metadata": {},
   "outputs": [
    {
     "data": {
      "text/html": [
       "<div>\n",
       "<style scoped>\n",
       "    .dataframe tbody tr th:only-of-type {\n",
       "        vertical-align: middle;\n",
       "    }\n",
       "\n",
       "    .dataframe tbody tr th {\n",
       "        vertical-align: top;\n",
       "    }\n",
       "\n",
       "    .dataframe thead th {\n",
       "        text-align: right;\n",
       "    }\n",
       "</style>\n",
       "<table border=\"1\" class=\"dataframe\">\n",
       "  <thead>\n",
       "    <tr style=\"text-align: right;\">\n",
       "      <th></th>\n",
       "      <th>question</th>\n",
       "      <th>cypher</th>\n",
       "    </tr>\n",
       "  </thead>\n",
       "  <tbody>\n",
       "    <tr>\n",
       "      <th>0</th>\n",
       "      <td>How many movies are there?</td>\n",
       "      <td>MATCH (m:Movie) RETURN count(*) AS movies</td>\n",
       "    </tr>\n",
       "    <tr>\n",
       "      <th>1</th>\n",
       "      <td>Who acted in the most movies?</td>\n",
       "      <td>MATCH (p:Person)-[:ACTED_IN]-&gt;(m:Movie)\\nRETUR...</td>\n",
       "    </tr>\n",
       "    <tr>\n",
       "      <th>2</th>\n",
       "      <td>Which movies released between 1990 and 2000 ha...</td>\n",
       "      <td>MATCH (m:Movie) WHERE m.released &gt;= 1990 AND m...</td>\n",
       "    </tr>\n",
       "    <tr>\n",
       "      <th>3</th>\n",
       "      <td>Who has the longest name among all actors?</td>\n",
       "      <td>MATCH (p:Person)-[:ACTED_IN]-&gt;(:Movie) RETURN ...</td>\n",
       "    </tr>\n",
       "    <tr>\n",
       "      <th>4</th>\n",
       "      <td>List people born before 1940.</td>\n",
       "      <td>MATCH (p:Person) WHERE p.born &lt; 1940 RETURN p....</td>\n",
       "    </tr>\n",
       "  </tbody>\n",
       "</table>\n",
       "</div>"
      ],
      "text/plain": [
       "                                            question  \\\n",
       "0                         How many movies are there?   \n",
       "1                      Who acted in the most movies?   \n",
       "2  Which movies released between 1990 and 2000 ha...   \n",
       "3         Who has the longest name among all actors?   \n",
       "4                      List people born before 1940.   \n",
       "\n",
       "                                              cypher  \n",
       "0          MATCH (m:Movie) RETURN count(*) AS movies  \n",
       "1  MATCH (p:Person)-[:ACTED_IN]->(m:Movie)\\nRETUR...  \n",
       "2  MATCH (m:Movie) WHERE m.released >= 1990 AND m...  \n",
       "3  MATCH (p:Person)-[:ACTED_IN]->(:Movie) RETURN ...  \n",
       "4  MATCH (p:Person) WHERE p.born < 1940 RETURN p....  "
      ]
     },
     "execution_count": 4,
     "metadata": {},
     "output_type": "execute_result"
    }
   ],
   "source": [
    "test_data = pd.read_csv(\"../data/benchmark_data.csv\", delimiter=\";\")\n",
    "test_data.head()"
   ]
  },
  {
   "cell_type": "code",
   "execution_count": 5,
   "id": "071f082d-52d6-4e26-b158-52df8af1a670",
   "metadata": {},
   "outputs": [
    {
     "name": "stderr",
     "output_type": "stream",
     "text": [
      "Processing rows: 100%|██████████| 10/10 [02:05<00:00, 12.57s/it]\n"
     ]
    }
   ],
   "source": [
    "answers = []\n",
    "ground_truths = []\n",
    "\n",
    "for i, row in tqdm(test_data.iterrows(), total=len(test_data), desc=\"Processing rows\"):\n",
    "    ground_truth, _, _ = neo4j_driver.execute_query(row[\"cypher\"])\n",
    "    ground_truths.append([str(el.data()) for el in ground_truth])\n",
    "    try:\n",
    "        answer = get_answer(row[\"question\"])\n",
    "    except Exception:\n",
    "        answer = None\n",
    "    answers.append(answer)"
   ]
  },
  {
   "cell_type": "code",
   "execution_count": 6,
   "id": "e98b4096-1740-4892-a43d-dc5fbceb149d",
   "metadata": {},
   "outputs": [],
   "source": [
    "test_data['ground_truth'] = [str(el) for el in ground_truths]\n",
    "test_data['answer'] = answers"
   ]
  },
  {
   "cell_type": "code",
   "execution_count": 7,
   "id": "c4ba84fe-e23a-48b0-adeb-6942ed3fdaa5",
   "metadata": {},
   "outputs": [
    {
     "data": {
      "application/vnd.jupyter.widget-view+json": {
       "model_id": "ea0f8bfe197c49c1abf5ca88d2533753",
       "version_major": 2,
       "version_minor": 0
      },
      "text/plain": [
       "Evaluating:   0%|          | 0/10 [00:00<?, ?it/s]"
      ]
     },
     "metadata": {},
     "output_type": "display_data"
    },
    {
     "name": "stdout",
     "output_type": "stream",
     "text": [
      "{'answer_correctness': 0.7965}\n"
     ]
    }
   ],
   "source": [
    "dataset = Dataset.from_pandas(test_data.fillna(\"I don't know\"))\n",
    "result = evaluate(\n",
    "    dataset,\n",
    "    metrics=[\n",
    "        answer_correctness\n",
    "    ]\n",
    ")\n",
    "print(result)"
   ]
  },
  {
   "cell_type": "code",
   "execution_count": 8,
   "id": "61e5598b-26e1-4113-a1e6-0c24ddd9743d",
   "metadata": {},
   "outputs": [
    {
     "data": {
      "text/html": [
       "<div>\n",
       "<style scoped>\n",
       "    .dataframe tbody tr th:only-of-type {\n",
       "        vertical-align: middle;\n",
       "    }\n",
       "\n",
       "    .dataframe tbody tr th {\n",
       "        vertical-align: top;\n",
       "    }\n",
       "\n",
       "    .dataframe thead th {\n",
       "        text-align: right;\n",
       "    }\n",
       "</style>\n",
       "<table border=\"1\" class=\"dataframe\">\n",
       "  <thead>\n",
       "    <tr style=\"text-align: right;\">\n",
       "      <th></th>\n",
       "      <th>question</th>\n",
       "      <th>cypher</th>\n",
       "      <th>ground_truth</th>\n",
       "      <th>answer</th>\n",
       "      <th>answer_correctness</th>\n",
       "    </tr>\n",
       "  </thead>\n",
       "  <tbody>\n",
       "    <tr>\n",
       "      <th>0</th>\n",
       "      <td>How many movies are there?</td>\n",
       "      <td>MATCH (m:Movie) RETURN count(*) AS movies</td>\n",
       "      <td>[\"{'movies': 38}\"]</td>\n",
       "      <td>There are 38 movies in total.</td>\n",
       "      <td>0.957427</td>\n",
       "    </tr>\n",
       "    <tr>\n",
       "      <th>1</th>\n",
       "      <td>Who acted in the most movies?</td>\n",
       "      <td>MATCH (p:Person)-[:ACTED_IN]-&gt;(m:Movie)\\nRETUR...</td>\n",
       "      <td>[\"{'p.name': 'Tom Hanks', 'movieCount': 12}\"]</td>\n",
       "      <td>The information is missing to answer the quest...</td>\n",
       "      <td>0.187045</td>\n",
       "    </tr>\n",
       "    <tr>\n",
       "      <th>2</th>\n",
       "      <td>Which movies released between 1990 and 2000 ha...</td>\n",
       "      <td>MATCH (m:Movie) WHERE m.released &gt;= 1990 AND m...</td>\n",
       "      <td>[\"{'m.title': 'The Matrix', 'm.released': 1999...</td>\n",
       "      <td>The movie \"The Matrix\" was released between 19...</td>\n",
       "      <td>0.946716</td>\n",
       "    </tr>\n",
       "    <tr>\n",
       "      <th>3</th>\n",
       "      <td>Who has the longest name among all actors?</td>\n",
       "      <td>MATCH (p:Person)-[:ACTED_IN]-&gt;(:Movie) RETURN ...</td>\n",
       "      <td>[\"{'name': 'Philip Seymour Hoffman'}\"]</td>\n",
       "      <td>None</td>\n",
       "      <td>0.178691</td>\n",
       "    </tr>\n",
       "    <tr>\n",
       "      <th>4</th>\n",
       "      <td>List people born before 1940.</td>\n",
       "      <td>MATCH (p:Person) WHERE p.born &lt; 1940 RETURN p....</td>\n",
       "      <td>[\"{'p.name': 'Max von Sydow'}\", \"{'p.name': 'G...</td>\n",
       "      <td>The people born before 1940 are:\\n\\n- Max von ...</td>\n",
       "      <td>0.947563</td>\n",
       "    </tr>\n",
       "    <tr>\n",
       "      <th>5</th>\n",
       "      <td>Who was born in 1965 and has directed a movie?</td>\n",
       "      <td>MATCH (p:Person)-[:DIRECTED]-&gt;(m:Movie) WHERE ...</td>\n",
       "      <td>[\"{'p.name': 'Lana Wachowski'}\", \"{'p.name': '...</td>\n",
       "      <td>Lana Wachowski and Tom Tykwer were born in 196...</td>\n",
       "      <td>0.949029</td>\n",
       "    </tr>\n",
       "    <tr>\n",
       "      <th>6</th>\n",
       "      <td>Who acted in Top Gun?</td>\n",
       "      <td>MATCH (p:Person)-[:ACTED_IN]-&gt;(m:Movie {title:...</td>\n",
       "      <td>[\"{'p.name': 'Val Kilmer'}\", \"{'p.name': 'Meg ...</td>\n",
       "      <td>The actors in the movie \"Top Gun\" are Val Kilm...</td>\n",
       "      <td>0.950795</td>\n",
       "    </tr>\n",
       "    <tr>\n",
       "      <th>7</th>\n",
       "      <td>List the movies with a title starting with \"The\"</td>\n",
       "      <td>MATCH (m:Movie) WHERE m.title STARTS WITH \"The...</td>\n",
       "      <td>[\"{'m.title': 'The Birdcage'}\", \"{'m.title': '...</td>\n",
       "      <td>The movies with a title starting with \"The\" ar...</td>\n",
       "      <td>0.953924</td>\n",
       "    </tr>\n",
       "    <tr>\n",
       "      <th>8</th>\n",
       "      <td>How many movies did Tom Hanks appear in?</td>\n",
       "      <td>MATCH (p:Person {name: \"Tom Hanks\"})-[:ACTED_I...</td>\n",
       "      <td>[\"{'numberOfMovies': 12}\"]</td>\n",
       "      <td>Tom Hanks appeared in 12 movies.</td>\n",
       "      <td>0.947381</td>\n",
       "    </tr>\n",
       "    <tr>\n",
       "      <th>9</th>\n",
       "      <td>Who played in the Matrix?</td>\n",
       "      <td>MATCH (p:Person)-[:ACTED_IN]-&gt;(m:Movie {title:...</td>\n",
       "      <td>[\"{'p.name': 'Emil Eifrem'}\", \"{'p.name': 'Hug...</td>\n",
       "      <td>The actors who played in \"The Matrix\" are Emil...</td>\n",
       "      <td>0.946806</td>\n",
       "    </tr>\n",
       "  </tbody>\n",
       "</table>\n",
       "</div>"
      ],
      "text/plain": [
       "                                            question  \\\n",
       "0                         How many movies are there?   \n",
       "1                      Who acted in the most movies?   \n",
       "2  Which movies released between 1990 and 2000 ha...   \n",
       "3         Who has the longest name among all actors?   \n",
       "4                      List people born before 1940.   \n",
       "5     Who was born in 1965 and has directed a movie?   \n",
       "6                              Who acted in Top Gun?   \n",
       "7   List the movies with a title starting with \"The\"   \n",
       "8           How many movies did Tom Hanks appear in?   \n",
       "9                          Who played in the Matrix?   \n",
       "\n",
       "                                              cypher  \\\n",
       "0          MATCH (m:Movie) RETURN count(*) AS movies   \n",
       "1  MATCH (p:Person)-[:ACTED_IN]->(m:Movie)\\nRETUR...   \n",
       "2  MATCH (m:Movie) WHERE m.released >= 1990 AND m...   \n",
       "3  MATCH (p:Person)-[:ACTED_IN]->(:Movie) RETURN ...   \n",
       "4  MATCH (p:Person) WHERE p.born < 1940 RETURN p....   \n",
       "5  MATCH (p:Person)-[:DIRECTED]->(m:Movie) WHERE ...   \n",
       "6  MATCH (p:Person)-[:ACTED_IN]->(m:Movie {title:...   \n",
       "7  MATCH (m:Movie) WHERE m.title STARTS WITH \"The...   \n",
       "8  MATCH (p:Person {name: \"Tom Hanks\"})-[:ACTED_I...   \n",
       "9  MATCH (p:Person)-[:ACTED_IN]->(m:Movie {title:...   \n",
       "\n",
       "                                        ground_truth  \\\n",
       "0                                 [\"{'movies': 38}\"]   \n",
       "1      [\"{'p.name': 'Tom Hanks', 'movieCount': 12}\"]   \n",
       "2  [\"{'m.title': 'The Matrix', 'm.released': 1999...   \n",
       "3             [\"{'name': 'Philip Seymour Hoffman'}\"]   \n",
       "4  [\"{'p.name': 'Max von Sydow'}\", \"{'p.name': 'G...   \n",
       "5  [\"{'p.name': 'Lana Wachowski'}\", \"{'p.name': '...   \n",
       "6  [\"{'p.name': 'Val Kilmer'}\", \"{'p.name': 'Meg ...   \n",
       "7  [\"{'m.title': 'The Birdcage'}\", \"{'m.title': '...   \n",
       "8                         [\"{'numberOfMovies': 12}\"]   \n",
       "9  [\"{'p.name': 'Emil Eifrem'}\", \"{'p.name': 'Hug...   \n",
       "\n",
       "                                              answer  answer_correctness  \n",
       "0                      There are 38 movies in total.            0.957427  \n",
       "1  The information is missing to answer the quest...            0.187045  \n",
       "2  The movie \"The Matrix\" was released between 19...            0.946716  \n",
       "3                                               None            0.178691  \n",
       "4  The people born before 1940 are:\\n\\n- Max von ...            0.947563  \n",
       "5  Lana Wachowski and Tom Tykwer were born in 196...            0.949029  \n",
       "6  The actors in the movie \"Top Gun\" are Val Kilm...            0.950795  \n",
       "7  The movies with a title starting with \"The\" ar...            0.953924  \n",
       "8                   Tom Hanks appeared in 12 movies.            0.947381  \n",
       "9  The actors who played in \"The Matrix\" are Emil...            0.946806  "
      ]
     },
     "execution_count": 8,
     "metadata": {},
     "output_type": "execute_result"
    }
   ],
   "source": [
    "test_data[\"answer_correctness\"] = [el[\"answer_correctness\"] for el in result.scores]\n",
    "test_data"
   ]
  },
  {
   "cell_type": "code",
   "execution_count": null,
   "id": "3997a6dc-1e66-4435-afcf-7b48014507f2",
   "metadata": {},
   "outputs": [],
   "source": []
  }
 ],
 "metadata": {
  "kernelspec": {
   "display_name": "Python 3 (ipykernel)",
   "language": "python",
   "name": "python3"
  },
  "language_info": {
   "codemirror_mode": {
    "name": "ipython",
    "version": 3
   },
   "file_extension": ".py",
   "mimetype": "text/x-python",
   "name": "python",
   "nbconvert_exporter": "python",
   "pygments_lexer": "ipython3",
   "version": "3.11.5"
  }
 },
 "nbformat": 4,
 "nbformat_minor": 5
}
