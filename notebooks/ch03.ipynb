{
 "cells": [
  {
   "cell_type": "code",
   "execution_count": 1,
   "metadata": {},
   "outputs": [],
   "source": [
    "%load_ext dotenv\n",
    "%dotenv"
   ]
  },
  {
   "cell_type": "code",
   "execution_count": 2,
   "metadata": {},
   "outputs": [],
   "source": [
    "import requests\n",
    "\n",
    "remote_pdf_url = \"https://arxiv.org/pdf/1709.00666.pdf\"\n",
    "pdf_filename = \"ch03-downloaded.pdf\"\n",
    "\n",
    "response = requests.get(remote_pdf_url)\n",
    "\n",
    "if response.status_code == 200:\n",
    "    with open(pdf_filename, \"wb\") as pdf_file:\n",
    "        pdf_file.write(response.content)\n",
    "else:\n",
    "    print(\"Failed to download the PDF. Status code:\", response.status_code)"
   ]
  },
  {
   "cell_type": "code",
   "execution_count": 3,
   "metadata": {},
   "outputs": [],
   "source": [
    "import pdfplumber\n",
    "\n",
    "text = \"\"\n",
    "\n",
    "with pdfplumber.open(pdf_filename) as pdf:\n",
    "    for page in pdf.pages:\n",
    "        text += page.extract_text()"
   ]
  },
  {
   "cell_type": "code",
   "execution_count": 4,
   "metadata": {},
   "outputs": [
    {
     "name": "stdout",
     "output_type": "stream",
     "text": [
      "Number of sections: 8\n",
      "154\n",
      "254\n",
      "4186\n",
      "570\n",
      "2703\n",
      "1441\n",
      "194\n",
      "600\n"
     ]
    }
   ],
   "source": [
    "import re\n",
    "\n",
    "from utils import num_tokens_from_string\n",
    "\n",
    "\n",
    "def split_text_by_titles(text):\n",
    "    # Compile a regular expression pattern for titles that\n",
    "    # match lines starting with one or more digits, an optional uppercase letter,\n",
    "    # followed by a dot, a space, and then up to 50 characters\n",
    "    title_pattern = re.compile(r\"(\\n\\d+[A-Z]?\\. {1,3}.{0,50}\\n)\", re.DOTALL)\n",
    "    # Find all titles using the pattern\n",
    "    titles = title_pattern.findall(text)\n",
    "    # Split the text at these titles\n",
    "    sections = re.split(title_pattern, text)\n",
    "    sections_with_titles = []\n",
    "    # Append the first section\n",
    "    sections_with_titles.append(sections[0])\n",
    "    # Iterate over the rest of sections\n",
    "    for i in range(1, len(titles) + 1):\n",
    "        section_text = sections[i * 2 - 1].strip() + \"\\n\" + sections[i * 2].strip()\n",
    "        sections_with_titles.append(section_text)\n",
    "\n",
    "    return sections_with_titles\n",
    "\n",
    "\n",
    "sections = split_text_by_titles(text)\n",
    "print(f\"Number of sections: {len(sections)}\")\n",
    "\n",
    "for s in sections:\n",
    "    print(num_tokens_from_string(s))"
   ]
  },
  {
   "cell_type": "code",
   "execution_count": null,
   "metadata": {},
   "outputs": [],
   "source": [
    "print(sections[1])"
   ]
  },
  {
   "cell_type": "code",
   "execution_count": 6,
   "metadata": {},
   "outputs": [
    {
     "name": "stdout",
     "output_type": "stream",
     "text": [
      "154\n",
      "254\n",
      "434\n",
      "503\n",
      "447\n",
      "478\n",
      "467\n",
      "451\n",
      "465\n",
      "469\n",
      "444\n",
      "109\n",
      "442\n",
      "135\n",
      "453\n",
      "452\n",
      "562\n",
      "460\n",
      "440\n",
      "393\n",
      "466\n",
      "451\n",
      "463\n",
      "88\n",
      "194\n",
      "415\n",
      "199\n"
     ]
    }
   ],
   "source": [
    "from utils import chunk_text\n",
    "\n",
    "parent_chunks = []\n",
    "for s in sections:\n",
    "    parent_chunks.extend(chunk_text(s, 2000, 40))\n",
    "\n",
    "for c in parent_chunks:\n",
    "    print(num_tokens_from_string(c))"
   ]
  },
  {
   "cell_type": "code",
   "execution_count": 7,
   "metadata": {},
   "outputs": [],
   "source": [
    "from utils import neo4j_driver"
   ]
  },
  {
   "cell_type": "code",
   "execution_count": 8,
   "metadata": {},
   "outputs": [
    {
     "name": "stdout",
     "output_type": "stream",
     "text": [
      "Vector Index already exists\n"
     ]
    }
   ],
   "source": [
    "index_name = \"parent\"\n",
    "try:\n",
    "    neo4j_driver.execute_query(\n",
    "        f\"CALL db.index.vector.createNodeIndex($index_name, 'Child', 'embedding', 1536, 'cosine')\",\n",
    "        index_name=index_name,\n",
    "    )\n",
    "except Exception as e:\n",
    "    print(\"Vector Index already exists\")"
   ]
  },
  {
   "cell_type": "code",
   "execution_count": 9,
   "metadata": {},
   "outputs": [],
   "source": [
    "from utils import embed\n",
    "\n",
    "for i, chunk in enumerate(parent_chunks):\n",
    "    child_chunks = chunk_text(chunk, 500, 20)\n",
    "    embeddings = embed(child_chunks)\n",
    "    # Add to neo4j\n",
    "    cypher_query = \"\"\"\n",
    "    MERGE (p:Parent {id:$id})\n",
    "    SET p.text = $parent\n",
    "    WITH p, $children AS children, $embeddings as embeddings\n",
    "    UNWIND range(0, size(children) - 1) AS child_index\n",
    "    MERGE (c:Child {id: $id + '-' + toString(child_index)})\n",
    "    SET c.text = children[child_index], c.embedding = embeddings[child_index]\n",
    "    MERGE (p)-[:HAS_CHILD]->(c)\n",
    "    \"\"\"\n",
    "    neo4j_driver.execute_query(\n",
    "        cypher_query,\n",
    "        id=str(i),\n",
    "        parent=chunk,\n",
    "        children=child_chunks,\n",
    "        embeddings=embeddings,\n",
    "    )"
   ]
  },
  {
   "cell_type": "code",
   "execution_count": 11,
   "metadata": {},
   "outputs": [
    {
     "name": "stdout",
     "output_type": "stream",
     "text": [
      "Question: At what time was Einstein really interested in experimental works?\n",
      "Stepback results: What was Einstein's interest in experimental works?\n"
     ]
    }
   ],
   "source": [
    "import os\n",
    "from openai import OpenAI\n",
    "from utils import chat\n",
    "\n",
    "\n",
    "question = \"At what time was Einstein really interested in experimental works?\"\n",
    "\n",
    "system_message = f\"\"\"\n",
    "\"You are an expert at world knowledge. Your task is to step back \"\n",
    "\"and paraphrase a question to a more generic step-back question, which \"\n",
    "\"is easier to answer. Here are a few examples\n",
    "\"input\": \"Could the members of The Police perform lawful arrests?\"\n",
    "\"output\": \"what can the members of The Police do?\"\n",
    "\n",
    "\"input\": \"Jan Sindel’s was born in what country?\"\n",
    "\"output\": \"what is Jan Sindel’s personal history?\"\n",
    "\"\"\"\n",
    "user_message = f\"\"\"{question}\"\"\"\n",
    "\n",
    "print(\"Question:\", question)\n",
    "\n",
    "step_back_question = chat(\n",
    "    messages=[\n",
    "        {\"role\": \"system\", \"content\": system_message},\n",
    "        {\"role\": \"user\", \"content\": user_message},\n",
    "    ]\n",
    ")\n",
    "print(f\"Stepback results: {step_back_question}\")"
   ]
  },
  {
   "cell_type": "code",
   "execution_count": 12,
   "metadata": {},
   "outputs": [
    {
     "name": "stdout",
     "output_type": "stream",
     "text": [
      "63. Einstein’s Inventions and Patents\n",
      "Table 1: Patents of Jacob Einstein (Albert Einstein's uncle).\n",
      "Date Patent Collaborators Description\n",
      "number\n",
      "30/08/1890 CH2131 Sebastian Kornprobst New electrical measuring and registering\n",
      "apparatus\n",
      "31/12/1886 DE41824 J. A. Essberger Improvements in electric arc lamps\n",
      "30/11/1889 DE53207 ‐ Automatic circuit breaker for electric arc\n",
      "lamps\n",
      "26/02/1890 DE53546 Sebastian Kornprobst Apparatus for stabilising irregular indicator\n",
      "movement in electric meter displays\n",
      "21/11/1889 DE53846 Sebastian Kornprobst Improvements to electric measurement\n",
      "apparatus\n",
      "23/02/1890 DE60361 Sebastian Kornprobst Spring loaded friction wheel\n",
      "10.10/1893 DE74429 Control of carbonisation in electric arc\n",
      "lamps\n",
      "DE‐Germany, CH‐Switzerland\n",
      "Considering Einstein’s upbringing, his interest in inventions and patents was not unusual.\n",
      "Being a manufacturer’s son, Einstein grew upon in an environment of machines and instruments.\n",
      "When his father’s company obtained the contract to illuminate Munich city during beer festival, he\n",
      "was actively engaged in execution of the contract. In his ETH days Einstein was genuinely interested\n",
      "in experimental works. He wrote to his friend, “most of the time I worked in the physical laboratory,\n",
      "fascinated by the direct contact with observation.” Einstein's Uncle Jacob was enterprising and\n",
      "obtained several patents on electrical instruments (see Table 1). He was aware that his father’s factory\n",
      "run into trouble due to introduction of new technology or new invention. Thus, Einstein was no alien\n",
      "to inventions and patents. He clearly understood the connection between invention, technology and\n",
      "patent. Moreover, his experience in the patent office, where he evaluated hundreds of patent\n",
      "applications made him an expert in nuances of machines and instruments. However, it must also be\n",
      "emphasized that his main occupation was theoretical physics. The inventions he worked upon were\n",
      "his diversions. In his unproductive times he used to work upon on solving mathematical\n",
      "0.8118661642074585\n",
      "======\n",
      "used to work upon on solving mathematical problems (not\n",
      "related to his ongoing theoretical investigations) or took upon some practical problem. As shown in\n",
      "Table. 2, Einstein was involved in three major inventions; (i) refrigeration system with Leo Szilard, (ii)\n",
      "Sound reproduction system with Rudolf Goldschmidt and (iii) automatic camera with Gustav Bucky.\n",
      "He also obtained a patent for a design of a blouse. It must also be mentioned that none of Einstein’s\n",
      "inventions came to consumer market and with the exception of the refrigeration system, they are of\n",
      "historical importance only. Below, his inventions are discussed in detail.\n",
      "0.8092527985572815\n",
      "======\n",
      "1. Introduction\n",
      "Towards the end of the last century, Times Magazine asked some of the World’s leading\n",
      "personalities to pick their choice for the person of the century. The magazine compiled a list 100 most\n",
      "influential people of 20th century and the German born scientist Albert Einstein topped the list.\n",
      "Einstein’s choice as the person of the century didn’t invoke any resentment, it was generally agreed\n",
      "that 20th century is the age of Science and undoubtedly, Einstein’s contribution to Science, to the\n",
      "understanding of the intricate laws of nature was unparalleled. He greatly influenced modern science;\n",
      "altered our views on space‐time, matter and energy, gave new interpretation to gravity etc. The\n",
      "enormous popularity he enjoyed during his lifetime and even now, is rare for any individual; religious\n",
      "leader, politician, film star. Even a child knows his name, not to speak of adults.\n",
      "However, while Einstein is known as a great theoretical physicist, few possibly knew that he\n",
      "had more than 50 patents in his names and in several counties. How did a great theoretical physicist\n",
      "get interested in patenting inventions? Here, following a brief description of Einstein’s life, we will\n",
      "discuss his inventions and patents.\n",
      "0.7719568610191345\n",
      "======\n",
      "4. Conclusions\n",
      "Einstein’s inventions and patents are mostly of historical importance now. His inventions were\n",
      "over‐shadowed by technological advancement in 20th century. However, that Einstein attempted and\n",
      "successfully designed those implements; automatic camera, refrigerator, pump, sound system, even\n",
      "a blouse, serve to show how diversified and talented was the great scientist. History behind those\n",
      "inventions showed that he was not just a theoretical physicist, sitting on an ivory tower, rather his\n",
      "14foot was firmly rooted on the earth. He was troubled by human miseries and tried his best to relieve\n",
      "them.\n",
      "We may mention that in recent years, interest in Einstein‐Szilard refrigerator has been\n",
      "revived. In 20th century, Chlorofluorocarbons (CFCs) were used widely as refrigerant, but they damage\n",
      "the environment by depleting ozone layers. With increased awareness of environment and associated\n",
      "climate change, efforts are on for Green technology. CFCs are being replaced by hydrofluorocarbons\n",
      "(HFCs) as they are less damaging to the environment. Malcolm McCulloch, an electrical engineer at\n",
      "Oxford, is trying to bring Einstein's refrigerator back as it is environmentally friendly. McCulloch\n",
      "believed that efficiency of the design can be improved by tweaking of the gases. He is also trying to\n",
      "use solar energy for the heat source required in the refrigerator. Einstein‐Szilard refrigerator has\n",
      "certain advantage that make them particularly useful in developing countries, where demand for\n",
      "cooling appliances is quickly increasing. The appliance requires minimum maintenance as no moving\n",
      "part is involved. Furthermore, many areas of under‐developed countries are still without electricity\n",
      "and the refrigerator can met their cooling requirement, as it is not dependent on electricity. The\n",
      "refrigerator will be extremely beneficial to the vaccination programme in under‐developed countries,\n",
      "where vast areas are still without electricity. Vaccines are required to be stored at 2‐8 degree\n",
      "centigrade\n",
      "0.7683941721916199\n",
      "======\n"
     ]
    }
   ],
   "source": [
    "question_embedding = embed([step_back_question])[0]\n",
    "\n",
    "vector_k = 10\n",
    "final_k = 4\n",
    "\n",
    "query = \"\"\"\n",
    "CALL db.index.vector.queryNodes($index_name, $vector_k, $question_embedding)\n",
    "YIELD node, score\n",
    "MATCH (node)<-[:HAS_CHILD]-(parent)\n",
    "WITH parent, max(score) AS score\n",
    "RETURN parent.text AS text, score\n",
    "ORDER BY score DESC\n",
    "LIMIT toInteger($final_k)\n",
    "\"\"\"\n",
    "similar_records, _, _ = neo4j_driver.execute_query(\n",
    "    query,\n",
    "    question_embedding=question_embedding,\n",
    "    vector_k=vector_k,\n",
    "    final_k=final_k,\n",
    "    index_name=index_name,\n",
    ")\n",
    "\n",
    "for record in similar_records:\n",
    "    print(record[\"text\"])\n",
    "    print(record[\"score\"])\n",
    "    print(\"======\")"
   ]
  },
  {
   "cell_type": "code",
   "execution_count": 13,
   "metadata": {},
   "outputs": [
    {
     "name": "stdout",
     "output_type": "stream",
     "text": [
      "Question: At what time was Einstein really interested in experimental works?\n",
      "Response: Einstein was genuinely interested in experimental works during his ETH days.\n"
     ]
    }
   ],
   "source": [
    "system_message = \"You're en Einstein expert, but can only use the provided documents to respond to the questions.\"\n",
    "user_message = f\"\"\"\n",
    "Use the following documents to answer the question that will follow:\n",
    "{[doc[\"text\"] for doc in similar_records]}\n",
    "\n",
    "---\n",
    "\n",
    "The question to answer using information only from the above documents: {question}\n",
    "\"\"\"\n",
    "\n",
    "print(\"Question:\", question)\n",
    "\n",
    "result = chat(\n",
    "    messages=[\n",
    "        {\"role\": \"system\", \"content\": system_message},\n",
    "        {\"role\": \"user\", \"content\": user_message},\n",
    "    ]\n",
    ")\n",
    "print(\"Response:\", result)"
   ]
  },
  {
   "cell_type": "code",
   "execution_count": null,
   "metadata": {},
   "outputs": [],
   "source": []
  }
 ],
 "metadata": {
  "kernelspec": {
   "display_name": "Python 3 (ipykernel)",
   "language": "python",
   "name": "python3"
  },
  "language_info": {
   "codemirror_mode": {
    "name": "ipython",
    "version": 3
   },
   "file_extension": ".py",
   "mimetype": "text/x-python",
   "name": "python",
   "nbconvert_exporter": "python",
   "pygments_lexer": "ipython3",
   "version": "3.11.5"
  }
 },
 "nbformat": 4,
 "nbformat_minor": 4
}
