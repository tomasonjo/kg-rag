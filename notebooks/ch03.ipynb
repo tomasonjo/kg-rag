{
 "cells": [
  {
   "cell_type": "code",
   "execution_count": 1,
   "metadata": {},
   "outputs": [],
   "source": [
    "%load_ext dotenv\n",
    "%dotenv"
   ]
  },
  {
   "cell_type": "code",
   "execution_count": 2,
   "metadata": {},
   "outputs": [],
   "source": [
    "import re\n",
    "from typing import List\n",
    "\n",
    "import pdfplumber\n",
    "import requests\n",
    "\n",
    "from utils import chat, chunk_text, embed, neo4j_driver, num_tokens_from_string"
   ]
  },
  {
   "cell_type": "code",
   "execution_count": 3,
   "metadata": {},
   "outputs": [],
   "source": [
    "stepback_system_message = \"\"\"\n",
    "You are an expert at world knowledge. Your task is to step back\n",
    "and paraphrase a question to a more generic step-back question, which\n",
    "is easier to answer. Here are a few examples\n",
    "\n",
    "\"input\": \"Could the members of The Police perform lawful arrests?\"\n",
    "\"output\": \"what can the members of The Police do?\"\n",
    "\n",
    "\"input\": \"Jan Sindel’s was born in what country?\"\n",
    "\"output\": \"what is Jan Sindel’s personal history?\"\n",
    "\"\"\"\n",
    "\n",
    "\n",
    "def generate_stepback(question: str):\n",
    "    user_message = f\"\"\"{question}\"\"\"\n",
    "    step_back_question = chat(\n",
    "        messages=[\n",
    "            {\"role\": \"system\", \"content\": stepback_system_message},\n",
    "            {\"role\": \"user\", \"content\": user_message},\n",
    "        ]\n",
    "    )\n",
    "    return step_back_question"
   ]
  },
  {
   "cell_type": "code",
   "execution_count": 4,
   "metadata": {},
   "outputs": [
    {
     "name": "stdout",
     "output_type": "stream",
     "text": [
      "Stepback results: What is the career history of Thierry Audel?\n"
     ]
    }
   ],
   "source": [
    "question = \"Which team did Thierry Audel play for from 2007 to 2008?\"\n",
    "step_back_question = generate_stepback(question)\n",
    "print(f\"Stepback results: {step_back_question}\")"
   ]
  },
  {
   "cell_type": "code",
   "execution_count": 5,
   "metadata": {},
   "outputs": [],
   "source": [
    "remote_pdf_url = \"https://arxiv.org/pdf/1709.00666.pdf\"\n",
    "pdf_filename = \"ch03-downloaded.pdf\"\n",
    "\n",
    "response = requests.get(remote_pdf_url)\n",
    "\n",
    "if response.status_code == 200:\n",
    "    with open(pdf_filename, \"wb\") as pdf_file:\n",
    "        pdf_file.write(response.content)\n",
    "else:\n",
    "    print(\"Failed to download the PDF. Status code:\", response.status_code)"
   ]
  },
  {
   "cell_type": "code",
   "execution_count": 6,
   "metadata": {},
   "outputs": [],
   "source": [
    "text = \"\"\n",
    "\n",
    "with pdfplumber.open(pdf_filename) as pdf:\n",
    "    for page in pdf.pages:\n",
    "        text += page.extract_text()"
   ]
  },
  {
   "cell_type": "code",
   "execution_count": 7,
   "metadata": {},
   "outputs": [
    {
     "name": "stdout",
     "output_type": "stream",
     "text": [
      "Number of sections: 9\n"
     ]
    }
   ],
   "source": [
    "def split_text_by_titles(text):\n",
    "    # A regular expression pattern for titles that\n",
    "    # match lines starting with one or more digits, an optional uppercase letter,\n",
    "    # followed by a dot, a space, and then up to 50 characters\n",
    "    title_pattern = re.compile(r\"(\\n\\d+[A-Z]?\\. {1,3}.{0,60}\\n)\", re.DOTALL)\n",
    "    titles = title_pattern.findall(text)\n",
    "    # Split the text at these titles\n",
    "    sections = re.split(title_pattern, text)\n",
    "    sections_with_titles = []\n",
    "    # Append the first section\n",
    "    sections_with_titles.append(sections[0])\n",
    "    # Iterate over the rest of sections\n",
    "    for i in range(1, len(titles) + 1):\n",
    "        section_text = sections[i * 2 - 1].strip() + \"\\n\" + sections[i * 2].strip()\n",
    "        sections_with_titles.append(section_text)\n",
    "\n",
    "    return sections_with_titles\n",
    "\n",
    "\n",
    "sections = split_text_by_titles(text)\n",
    "print(f\"Number of sections: {len(sections)}\")"
   ]
  },
  {
   "cell_type": "code",
   "execution_count": 8,
   "metadata": {},
   "outputs": [
    {
     "name": "stdout",
     "output_type": "stream",
     "text": [
      "154\n",
      "254\n",
      "4186\n",
      "570\n",
      "2703\n",
      "804\n",
      "637\n",
      "194\n",
      "600\n"
     ]
    }
   ],
   "source": [
    "for s in sections:\n",
    "    print(num_tokens_from_string(s))"
   ]
  },
  {
   "cell_type": "code",
   "execution_count": 9,
   "metadata": {},
   "outputs": [
    {
     "name": "stdout",
     "output_type": "stream",
     "text": [
      "1. Introduction\n",
      "Towards the end of the last century, Times Magazine asked some of the World’s leading\n",
      "personalities to pick their choice for the person of the century. The magazine compiled a list 100 most\n",
      "influential people of 20th century and the German born scientist Albert Einstein topped the list.\n",
      "Einstein’s choice as the person of the century didn’t invoke any resentment, it was generally agreed\n",
      "that 20th century is the age of Science and undoubtedly, Einstein’s contribution to Science, to the\n",
      "understanding of the intricate laws of nature was unparalleled. He greatly influenced modern science;\n",
      "altered our views on space‐time, matter and energy, gave new interpretation to gravity etc. The\n",
      "enormous popularity he enjoyed during his lifetime and even now, is rare for any individual; religious\n",
      "leader, politician, film star. Even a child knows his name, not to speak of adults.\n",
      "However, while Einstein is known as a great theoretical physicist, few possibly knew that he\n",
      "had more than 50 patents in his names and in several counties. How did a great theoretical physicist\n",
      "get interested in patenting inventions? Here, following a brief description of Einstein’s life, we will\n",
      "discuss his inventions and patents.\n"
     ]
    }
   ],
   "source": [
    "print(sections[1])"
   ]
  },
  {
   "cell_type": "code",
   "execution_count": 10,
   "metadata": {},
   "outputs": [],
   "source": [
    "parent_chunks = []\n",
    "for s in sections:\n",
    "    parent_chunks.extend(chunk_text(s, 2000, 40))"
   ]
  },
  {
   "cell_type": "code",
   "execution_count": 11,
   "metadata": {},
   "outputs": [],
   "source": [
    "cypher_import_query = \"\"\"\n",
    "MERGE (pdf:PDF {id:$pdf_id})\n",
    "MERGE (p:Parent {id:$pdf_id + '-' + $id})\n",
    "SET p.text = $parent\n",
    "MERGE (pdf)-[:HAS_PARENT]->(p)\n",
    "WITH p, $children AS children, $embeddings as embeddings\n",
    "UNWIND range(0, size(children) - 1) AS child_index\n",
    "MERGE (c:Child {id: $pdf_id + '-' + $id + '-' + toString(child_index)})\n",
    "SET c.text = children[child_index], c.embedding = embeddings[child_index]\n",
    "MERGE (p)-[:HAS_CHILD]->(c);\n",
    "\"\"\""
   ]
  },
  {
   "cell_type": "code",
   "execution_count": 12,
   "metadata": {},
   "outputs": [],
   "source": [
    "for i, chunk in enumerate(parent_chunks):\n",
    "    child_chunks = chunk_text(chunk, 500, 20)\n",
    "    embeddings = embed(child_chunks)\n",
    "    # Add to neo4j\n",
    "    neo4j_driver.execute_query(\n",
    "        cypher_import_query,\n",
    "        id=str(i),\n",
    "        pdf_id=\"1709.00666\",\n",
    "        parent=chunk,\n",
    "        children=child_chunks,\n",
    "        embeddings=embeddings,\n",
    "    )"
   ]
  },
  {
   "cell_type": "code",
   "execution_count": 13,
   "metadata": {},
   "outputs": [
    {
     "name": "stdout",
     "output_type": "stream",
     "text": [
      "Vector Index already exists\n"
     ]
    }
   ],
   "source": [
    "index_name = \"parent\"\n",
    "try:\n",
    "    neo4j_driver.execute_query(\n",
    "        \"CALL db.index.vector.createNodeIndex($index_name, 'Child', 'embedding', 1536, 'cosine')\",\n",
    "        index_name=index_name,\n",
    "    )\n",
    "except Exception:\n",
    "    print(\"Vector Index already exists\")"
   ]
  },
  {
   "cell_type": "code",
   "execution_count": 14,
   "metadata": {},
   "outputs": [],
   "source": [
    "retrieval_query = \"\"\"\n",
    "CALL db.index.vector.queryNodes($index_name, $k * 4, $question_embedding)\n",
    "YIELD node, score\n",
    "MATCH (node)<-[:HAS_CHILD]-(parent)\n",
    "WITH parent, max(score) AS score\n",
    "RETURN parent.text AS text, score\n",
    "ORDER BY score DESC\n",
    "LIMIT toInteger($k)\n",
    "\"\"\""
   ]
  },
  {
   "cell_type": "code",
   "execution_count": 15,
   "metadata": {},
   "outputs": [],
   "source": [
    "def parent_retrieval(question: str, k: int = 4) -> List[str]:\n",
    "    question_embedding = embed([question])[0]\n",
    "\n",
    "    similar_records, _, _ = neo4j_driver.execute_query(\n",
    "        retrieval_query,\n",
    "        question_embedding=question_embedding,\n",
    "        k=k,\n",
    "        index_name=index_name,\n",
    "    )\n",
    "\n",
    "    return [record[\"text\"] for record in similar_records]"
   ]
  },
  {
   "cell_type": "code",
   "execution_count": 16,
   "metadata": {},
   "outputs": [
    {
     "name": "stdout",
     "output_type": "stream",
     "text": [
      "113B. Sound reproduction system with Rudolf Goldschmidt\n",
      "Rudolf Goldschmidt was a German Engineer and inventor. He earned his engineering degree\n",
      "in 1898 and PhD in 1906. He spent a decade working in England with major firms such as Crampton,\n",
      "Arc works, Westinghouse etc. On returning back to Germany he joined Darmstadt T H University as a\n",
      "professor. Goldschmidt was a prolific inventor. His first patent was for a bicycle gear while still an\n",
      "engineering student. In 1908 he developed a rotating radio‐frequency machine, which was used as an\n",
      "early radio transmitter. The transmitter was used in the first trans‐Atlantic radiotelegraphic link\n",
      "between Germany and United States, opened on 19th June, 1914, with an exchange of telegrams\n",
      "between Kaiser Wilhelm II and President Woodrow Wilson.\n",
      "Figure 5: Einstein‐Goldschmidt design of a sound reproduction system.\n",
      "In 1922 Goldschmidt approached Einstein for his expert opinion regarding one of his patents.\n",
      "Thereafter, they kept in touch. Even after Einstein migrated to US and Goldschmidt to England, the\n",
      "friendship continued. On January 10, 1934 Goldschmidt and Einstein patented an “Electromagnetic\n",
      "sound reproduction apparatus.” The patent has a history. One of the acquaintance of Einstein, Olga\n",
      "Eisner, a distinguished singer, became hard on hearing, a serious drawback for a singer. In 1928,\n",
      "Einstein asked Goldschmidt’s assistance in developing a new type of hearing aid for her. At that time\n",
      "he sent his friend one of his poetic creations:\n",
      "Ein biszchen Technik dann und wann\n",
      "Auch Gruebler amusieren kann\n",
      "Drum kuehnlich denk ich schon so weit:\n",
      "Wir legen noch ein zu zweit.\n",
      "In translation,\n",
      "A bit technique now and then\n",
      "Can also amuse thinkers.\n",
      "Therefore, audaciously I’m thinking far ahead:\n",
      "One day we’ll produce something good together.\n",
      "Their collaboration resulted a design for sound reproduction system and a patent for the\n",
      "system. The schematic diagram of the device is shown in Figure 5. The final patent was entitled,\n",
      "“Device, especially for sound‐reproduction\n",
      "====================\n",
      "entitled,\n",
      "“Device, especially for sound‐reproduction equipment, in which changes of an electric current\n",
      "generate movements of a magnetised body by means of magnetostriction.” As the title suggests, they\n",
      "12used the physical phenomena of magnetostriction. What is magnetostriction? If a coil is wound round\n",
      "an iron magnet and a current is passed, the rod’s magnetism changes, so does the length. The change\n",
      "is small due to rod’s rigidity, which counters the magnetostriction. Einstein and Goldschmidt’s idea\n",
      "was to diminish the rigidity by keeping the rod under extreme pull to reduce it to a state of labile\n",
      "(where the external pull or pressure is close to its tear or buckling), such that the change in the length\n",
      "of the rod follows the changes in the electric current. When this arrangement is made in a microphone\n",
      "or loud speaker, lengthwise vibration of the rod follows the oscillation of the current in the coil\n",
      "produced by the sound to be transmitted.\n",
      "However, the original plan of development of a hearing aid did not materialize. They tried to\n",
      "invent an electro‐acoustical hearing aid. The basic idea was to convert the acoustical signal into\n",
      "electrical oscillation and transmit the signal by some sort of membrane attached to the skull such that\n",
      "the bone could conduct it to the hearing organ. They worked on the design but both had to flee\n",
      "Germany and their work was disrupted. Later, Goldschmidt tried to revive the idea, but Einstein was\n",
      "not interested. Furthermore, development of electronic hearing aid (where the audio signal is\n",
      "amplified many times) overshadowed their electro‐acoustical device.\n",
      "====================\n",
      "used to work upon on solving mathematical problems (not\n",
      "related to his ongoing theoretical investigations) or took upon some practical problem. As shown in\n",
      "Table. 2, Einstein was involved in three major inventions; (i) refrigeration system with Leo Szilard, (ii)\n",
      "Sound reproduction system with Rudolf Goldschmidt and (iii) automatic camera with Gustav Bucky.\n",
      "He also obtained a patent for a design of a blouse. It must also be mentioned that none of Einstein’s\n",
      "inventions came to consumer market and with the exception of the refrigeration system, they are of\n",
      "historical importance only. Below, his inventions are discussed in detail.\n",
      "====================\n",
      "Wein (1864‐1928) was a German physicist who did pioneering work on radiation. He\n",
      "discovered the displacement law (the wavelength changes with temperature). He also introduced the\n",
      "concept of ideal or black body (the body which completely absorbs all radiation). He also obtained the\n",
      "black body radiation law known as Wein's law, which later found to be valid only for short wavelength\n",
      "4Immediately after the 17th issue was published he came to Johann Laub8 and asked him to discuss\n",
      "Einstein’s papers in the next colloquium. Max Plank9 at Berlin also realized their importance. He was\n",
      "one of the few who understood relativity. Immediately, after the paper was published he gave a\n",
      "colloquium on relativity. The other man was the Polish professor Witkowski10, who after reading\n",
      "Einstein’s paper proclaimed to his colleagues, “A new Copernicus is born! Read Einstein’s paper.”\n",
      "Even though a few recognized his ability, he remained largely unknown to the academic world. For\n",
      "example, even in 1907 Max Born11 apparently was not aware of Einstein’s papers. In 1907, Einstein\n",
      "applied for a Privatdozentship at the University of Bern. Privatdozentship carried no salary, but only\n",
      "right to teach. However, it was denied due to a technical flaw in the application and only after Einstein\n",
      "corrected the technical flaw, he was granted Privatdozentship and formally, Einstein became a\n",
      "member of the academic world. In the meantime, he even contemplated for applying for a teacher’s\n",
      "position in a school. Gradually, his reputation as a mathematical physicist grew and he was offered his\n",
      "first faculty position, associate professor of the theoretical physics at the University of Zurich. Einstein\n",
      "left his job at the Patent office and joined the University of Zurich on October 15, 1909. Thereafter, he\n",
      "continued to rise in ladder. In 1911, he moved to Prague University as a full professor, a year later, he\n",
      "was appointed as full professor at ETH, Zurich, his alma‐mater. In 1914, he was appointed Director of\n",
      "the Kaiser Wilhelm Institute for Physics (1914–1932)\n",
      "====================\n"
     ]
    }
   ],
   "source": [
    "documents = parent_retrieval(\n",
    "    \"Who was the Einsten's collaborator on sound reproduction system?\"\n",
    ")\n",
    "for d in documents:\n",
    "    print(d)\n",
    "    print(\"=\" * 20)"
   ]
  },
  {
   "cell_type": "code",
   "execution_count": 17,
   "metadata": {},
   "outputs": [
    {
     "data": {
      "text/plain": [
       "\"Who were Einstein's professional associates?\""
      ]
     },
     "execution_count": 17,
     "metadata": {},
     "output_type": "execute_result"
    }
   ],
   "source": [
    "generate_stepback(\"Who was the Einsten's collaborator on sound reproduction system?\")"
   ]
  },
  {
   "cell_type": "code",
   "execution_count": 18,
   "metadata": {},
   "outputs": [],
   "source": [
    "answer_system_message = \"You're en Einstein expert, but can only use the provided documents to respond to the questions.\"\n",
    "\n",
    "\n",
    "def generate_answer(question: str, documents: List[str]) -> str:\n",
    "    user_message = f\"\"\"\n",
    "    Use the following documents to answer the question that will follow:\n",
    "    {documents}\n",
    "    \n",
    "    ---\n",
    "    \n",
    "    The question to answer using information only from the above documents: {question}\n",
    "    \"\"\"\n",
    "    result = chat(\n",
    "        messages=[\n",
    "            {\"role\": \"system\", \"content\": answer_system_message},\n",
    "            {\"role\": \"user\", \"content\": user_message},\n",
    "        ]\n",
    "    )\n",
    "    print(\"Response:\", result)"
   ]
  },
  {
   "cell_type": "code",
   "execution_count": 19,
   "metadata": {},
   "outputs": [],
   "source": [
    "def rag_pipeline(question: str) -> str:\n",
    "    stepback_prompt = generate_stepback(question)\n",
    "    print(f\"Stepback prompt: {stepback_prompt}\")\n",
    "    documents = parent_retrieval(stepback_prompt)\n",
    "    answer = generate_answer(question, documents)\n",
    "    return answer"
   ]
  },
  {
   "cell_type": "code",
   "execution_count": 20,
   "metadata": {},
   "outputs": [
    {
     "name": "stdout",
     "output_type": "stream",
     "text": [
      "Stepback prompt: Who were Einstein's professional associates?\n",
      "Response: The documents provided do not contain information on who collaborated with Einstein on a sound reproduction system.\n"
     ]
    }
   ],
   "source": [
    "rag_pipeline(\"Who was the Einsten's collaborator on sound reproduction system?\")"
   ]
  },
  {
   "cell_type": "code",
   "execution_count": null,
   "metadata": {},
   "outputs": [],
   "source": []
  }
 ],
 "metadata": {
  "kernelspec": {
   "display_name": "Python 3 (ipykernel)",
   "language": "python",
   "name": "python3"
  },
  "language_info": {
   "codemirror_mode": {
    "name": "ipython",
    "version": 3
   },
   "file_extension": ".py",
   "mimetype": "text/x-python",
   "name": "python",
   "nbconvert_exporter": "python",
   "pygments_lexer": "ipython3",
   "version": "3.11.5"
  }
 },
 "nbformat": 4,
 "nbformat_minor": 4
}
