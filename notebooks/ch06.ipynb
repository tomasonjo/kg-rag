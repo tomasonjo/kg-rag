{
 "cells": [
  {
   "cell_type": "code",
   "execution_count": 1,
   "id": "5d6e2bd7-1418-4c66-a78f-7582a9a40288",
   "metadata": {},
   "outputs": [],
   "source": [
    "%load_ext dotenv\n",
    "%dotenv"
   ]
  },
  {
   "cell_type": "code",
   "execution_count": 2,
   "id": "e002d718-2129-4b10-bf9c-96cccbd9357a",
   "metadata": {},
   "outputs": [
    {
     "name": "stderr",
     "output_type": "stream",
     "text": [
      "/Users/tomazbratanic/anaconda3/lib/python3.11/site-packages/pandas/core/arrays/masked.py:60: UserWarning: Pandas requires version '1.3.6' or newer of 'bottleneck' (version '1.3.5' currently installed).\n",
      "  from pandas.core import (\n"
     ]
    }
   ],
   "source": [
    "import os\n",
    "from pydantic import BaseModel, Field\n",
    "from openai import OpenAI\n",
    "from typing import Optional, List\n",
    "import json\n",
    "from utils import neo4j_driver\n",
    "\n",
    "client = OpenAI()"
   ]
  },
  {
   "cell_type": "code",
   "execution_count": 3,
   "id": "1f2a896a-cbab-46fd-8e92-418e3e0deac8",
   "metadata": {},
   "outputs": [],
   "source": [
    "class Location(BaseModel):\n",
    "    \"\"\"\n",
    "    Represents a physical location including address, city, state, and country.\n",
    "    \"\"\"\n",
    "\n",
    "    address: Optional[str] = Field(\n",
    "        ..., description=\"The street address of the location.\"\n",
    "    )\n",
    "    city: Optional[str] = Field(..., description=\"The city of the location.\")\n",
    "    state: Optional[str] = Field(\n",
    "        ..., description=\"The state or region of the location.\"\n",
    "    )\n",
    "    country: str = Field(\n",
    "        ...,\n",
    "        description=\"The country of the location. Use the two-letter ISO standard.\",\n",
    "    )\n",
    "\n",
    "\n",
    "class Organization(BaseModel):\n",
    "    \"\"\"\n",
    "    Represents an organization, including its name and location.\n",
    "    \"\"\"\n",
    "\n",
    "    name: str = Field(..., description=\"The name of the organization.\")\n",
    "    location: Location = Field(\n",
    "        ..., description=\"The primary location of the organization.\"\n",
    "    )\n",
    "    role: str = Field(\n",
    "        ...,\n",
    "        description=\"The role of the organization in the contract, such as 'provider', 'client', 'supplier', etc.\",\n",
    "    )\n",
    "\n",
    "contract_types = [\n",
    "    \"Service Agreement\",\n",
    "    \"Licensing Agreement\",\n",
    "    \"Non-Disclosure Agreement (NDA)\",\n",
    "    \"Partnership Agreement\",\n",
    "    \"Lease Agreement\"\n",
    "]\n",
    "\n",
    "class Contract(BaseModel):\n",
    "    \"\"\"\n",
    "    Represents the key details of the contract.\n",
    "    \"\"\"\n",
    "\n",
    "    contract_type: str = Field(\n",
    "        ...,\n",
    "        description=\"The type of contract being entered into.\",\n",
    "        enum=contract_types,\n",
    "    )\n",
    "    parties: List[Organization] = Field(\n",
    "        ...,\n",
    "        description=\"List of parties involved in the contract, with details of each party's role.\",\n",
    "    )\n",
    "    effective_date: str = Field(\n",
    "        ...,\n",
    "        description=\"The date when the contract becomes effective. Use yyyy-MM-dd format.\",\n",
    "    )\n",
    "    term: str = Field(\n",
    "        ...,\n",
    "        description=\"The duration of the agreement, including provisions for renewal or termination.\",\n",
    "    )\n",
    "    contract_scope: str = Field(\n",
    "        ...,\n",
    "        description=\"Description of the scope of the contract, including rights, duties, and any limitations.\",\n",
    "    )\n",
    "    end_date: Optional[str] = Field(\n",
    "        ...,\n",
    "        description=\"The date when the contract becomes expires. Use yyyy-MM-dd format.\",\n",
    "    )\n",
    "    total_amount: Optional[float] = Field(\n",
    "        ..., description=\"Total value of the contract.\"\n",
    "    )\n",
    "    governing_law: Optional[Location] = Field(\n",
    "        ..., description=\"The jurisdiction's laws governing the contract.\"\n",
    "    )"
   ]
  },
  {
   "cell_type": "code",
   "execution_count": 4,
   "id": "8a858047-eb96-4dee-98cf-89763c1ed04c",
   "metadata": {},
   "outputs": [],
   "source": [
    "system_message = \"\"\"\n",
    "You are an expert in extracting structured information from legal documents and contracts.\n",
    "Identify key details such as parties involved, dates, terms, obligations, and legal definitions.\n",
    "Present the extracted information in a clear, structured format. Be concise, focusing on essential\n",
    "legal content and ignoring unnecessary boilerplate language.\"\"\""
   ]
  },
  {
   "cell_type": "code",
   "execution_count": 5,
   "id": "a7837f1e-b7d1-403d-b126-e05e39d61e0c",
   "metadata": {},
   "outputs": [],
   "source": [
    "def extract(document, model=\"gpt-4o-2024-08-06\", temperature=0):\n",
    "    response = client.beta.chat.completions.parse(\n",
    "        model=model,\n",
    "        temperature=temperature,\n",
    "        messages=[\n",
    "            {\"role\": \"system\", \"content\": system_message},\n",
    "            {\"role\": \"user\", \"content\": document},\n",
    "        ],\n",
    "        response_format=Contract,\n",
    "    )\n",
    "    return json.loads(response.choices[0].message.content)"
   ]
  },
  {
   "cell_type": "code",
   "execution_count": 6,
   "id": "0537043f-cf3b-4f5a-b597-e8e888afa296",
   "metadata": {},
   "outputs": [],
   "source": [
    "# Read the file\n",
    "with open('../data/license_agreement.txt', 'r') as file:\n",
    "    contents = file.read()"
   ]
  },
  {
   "cell_type": "code",
   "execution_count": 7,
   "id": "14cab512-9ae5-441a-a43b-f99d658bad44",
   "metadata": {},
   "outputs": [],
   "source": [
    "#print(contents)"
   ]
  },
  {
   "cell_type": "code",
   "execution_count": 8,
   "id": "d6a1e4a8-8ae8-46fa-86ca-271812fd7f2e",
   "metadata": {},
   "outputs": [
    {
     "data": {
      "text/plain": [
       "{'contract_type': 'Licensing Agreement',\n",
       " 'parties': [{'name': 'Mortgage Logic.com, Inc.',\n",
       "   'location': {'address': 'Two Venture Plaza, 2 Venture',\n",
       "    'city': 'Irvine',\n",
       "    'state': 'California',\n",
       "    'country': 'US'},\n",
       "   'role': 'Client'},\n",
       "  {'name': 'TrueLink, Inc.',\n",
       "   'location': {'address': '3026 South Higuera',\n",
       "    'city': 'San Luis Obispo',\n",
       "    'state': 'California',\n",
       "    'country': 'US'},\n",
       "   'role': 'Provider'}],\n",
       " 'effective_date': '1999-02-26',\n",
       " 'term': '1 year, with automatic renewal for successive one-year periods unless terminated',\n",
       " 'contract_scope': 'TrueLink grants Mortgage Logic.com a non-exclusive license to use the Interface for origination, underwriting, processing, and funding of consumer finance receivables. TrueLink will provide hosting services, including storage, response time management, bandwidth, availability, access, backups, internet connection, domain name assistance, and transmission of credit data. TrueLink will also provide support services with at least one programmer available for a specified period.',\n",
       " 'end_date': None,\n",
       " 'total_amount': None,\n",
       " 'governing_law': {'address': None,\n",
       "  'city': None,\n",
       "  'state': 'California',\n",
       "  'country': 'US'}}"
      ]
     },
     "execution_count": 8,
     "metadata": {},
     "output_type": "execute_result"
    }
   ],
   "source": [
    "data = extract(contents)\n",
    "data"
   ]
  },
  {
   "cell_type": "code",
   "execution_count": 9,
   "id": "f7b11899-9c87-42df-a993-8a8305472f0b",
   "metadata": {},
   "outputs": [
    {
     "data": {
      "text/plain": [
       "EagerResult(records=[], summary=<neo4j._work.summary.ResultSummary object at 0x137fa7950>, keys=[])"
      ]
     },
     "execution_count": 9,
     "metadata": {},
     "output_type": "execute_result"
    }
   ],
   "source": [
    "neo4j_driver.execute_query(\n",
    "    \"CREATE CONSTRAINT IF NOT EXISTS FOR (c:Contract) REQUIRE c.id IS UNIQUE;\"\n",
    ")\n",
    "neo4j_driver.execute_query(\n",
    "    \"CREATE CONSTRAINT IF NOT EXISTS FOR (o:Organization) REQUIRE o.name IS UNIQUE;\"\n",
    ")\n",
    "neo4j_driver.execute_query(\n",
    "    \"CREATE CONSTRAINT IF NOT EXISTS FOR (l:Location) REQUIRE l.fullAddress IS UNIQUE;\"\n",
    ")"
   ]
  },
  {
   "cell_type": "code",
   "execution_count": 10,
   "id": "c52b102a-2365-4a36-a089-cf5528044251",
   "metadata": {},
   "outputs": [
    {
     "data": {
      "text/plain": [
       "EagerResult(records=[], summary=<neo4j._work.summary.ResultSummary object at 0x137fdd210>, keys=[])"
      ]
     },
     "execution_count": 10,
     "metadata": {},
     "output_type": "execute_result"
    }
   ],
   "source": [
    "import_query = \"\"\"WITH $data AS contract_data\n",
    "// Create Contract node\n",
    "MERGE (contract:Contract {id: randomUUID()})\n",
    "SET contract += {\n",
    "  contract_type: contract_data.contract_type,\n",
    "  effective_date: contract_data.effective_date,\n",
    "  term: contract_data.term,\n",
    "  contract_scope: contract_data.contract_scope,\n",
    "  end_date: contract_data.end_date,\n",
    "  total_amount: contract_data.total_amount,\n",
    "  governing_law: contract_data.governing_law.state + ' ' +\n",
    "                 contract_data.governing_law.country\n",
    "}\n",
    "WITH contract, contract_data\n",
    "// Create Party nodes and their locations\n",
    "UNWIND contract_data.parties AS party\n",
    "MERGE (p:Organization {name: party.name})\n",
    "MERGE (loc:Location {\n",
    "  fullAddress: party.location.address + ' ' +\n",
    "                party.location.city + ' ' +\n",
    "                party.location.state + ' ' +\n",
    "                party.location.country})\n",
    "SET loc += {\n",
    "  address: party.location.address,\n",
    "  city: party.location.city,\n",
    "  state: party.location.state,\n",
    "  country: party.location.country\n",
    "}\n",
    "// Link party to their location\n",
    "MERGE (p)-[:LOCATED_AT]->(loc)\n",
    "// Link parties to the contract\n",
    "MERGE (p)-[r:HAS_PARTY]->(contract)\n",
    "SET r.role = party.role\n",
    "\"\"\"\n",
    "neo4j_driver.execute_query(import_query, data=data)"
   ]
  }
 ],
 "metadata": {
  "kernelspec": {
   "display_name": "Python 3 (ipykernel)",
   "language": "python",
   "name": "python3"
  },
  "language_info": {
   "codemirror_mode": {
    "name": "ipython",
    "version": 3
   },
   "file_extension": ".py",
   "mimetype": "text/x-python",
   "name": "python",
   "nbconvert_exporter": "python",
   "pygments_lexer": "ipython3",
   "version": "3.11.5"
  }
 },
 "nbformat": 4,
 "nbformat_minor": 5
}
