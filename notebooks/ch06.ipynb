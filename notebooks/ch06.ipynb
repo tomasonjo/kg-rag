{
 "cells": [
  {
   "cell_type": "code",
   "execution_count": 1,
   "id": "5d6e2bd7-1418-4c66-a78f-7582a9a40288",
   "metadata": {},
   "outputs": [],
   "source": [
    "%load_ext dotenv\n",
    "%dotenv"
   ]
  },
  {
   "cell_type": "code",
   "execution_count": 2,
   "id": "e002d718-2129-4b10-bf9c-96cccbd9357a",
   "metadata": {},
   "outputs": [],
   "source": [
    "import os\n",
    "from pydantic import BaseModel, Field\n",
    "from openai import OpenAI\n",
    "from typing import Optional, List\n",
    "\n",
    "client = OpenAI()"
   ]
  },
  {
   "cell_type": "code",
   "execution_count": 3,
   "id": "1f2a896a-cbab-46fd-8e92-418e3e0deac8",
   "metadata": {},
   "outputs": [],
   "source": [
    "class Location(BaseModel):\n",
    "    \"\"\"\n",
    "    Represents a physical location including address, city, state, and country.\n",
    "    \"\"\"\n",
    "    address: str = Field(..., description=\"The street address of the location.\")\n",
    "    city: str = Field(..., description=\"The city of the location.\")\n",
    "    state: str = Field(..., description=\"The state or region of the location.\")\n",
    "    country: str = Field(..., description=\"The country of the location.\")\n",
    "\n",
    "class Organization(BaseModel):\n",
    "    \"\"\"\n",
    "    Represents an organization, including its name and location.\n",
    "    \"\"\"\n",
    "    name: str = Field(..., description=\"The name of the organization.\")\n",
    "    location: Location = Field(..., description=\"The primary location of the organization.\")\n",
    "\n",
    "class Contract(BaseModel):\n",
    "    \"\"\"\n",
    "    Represents the key details of the licensing and web hosting agreement.\n",
    "    \"\"\"\n",
    "    effective_date: str = Field(..., description=\"The date when the contract becomes effective. Use yyyy-MM-dd format.\")\n",
    "    client: Organization = Field(..., description=\"The client organization entering the contract.\")\n",
    "    service_provider: Organization = Field(..., description=\"The service provider organization (TrueLink) entering the contract.\")\n",
    "    grant_scope: str = Field(..., description=\"Description of the rights granted under the license, including scope and limitations.\")\n",
    "    term: str = Field(..., description=\"The term of the agreement, including any provisions for renewal or termination.\")\n",
    "    hosting_services: List[str] = Field(..., description=\"List of hosting services provided under the agreement.\")\n",
    "    support_services_duration: Optional[int] = Field(None, description=\"Duration in months that the service provider commits to providing support services.\")\n",
    "    compensation_details: str = Field(..., description=\"Details of the payment terms and compensation structure for hosting and support services.\")\n",
    "    intellectual_property_rights: str = Field(..., description=\"Provisions regarding the ownership and rights to the intellectual property of both parties.\")\n",
    "    confidentiality_obligations: str = Field(..., description=\"Details regarding the confidentiality obligations between the client and service provider.\")\n",
    "    dispute_resolution: str = Field(..., description=\"Provisions for how disputes will be resolved, including jurisdiction and venue.\")\n",
    "    termination_conditions: str = Field(..., description=\"Conditions under which the contract may be terminated by either party.\")\n",
    "    indemnification_provisions: str = Field(..., description=\"Details of indemnification obligations for both parties.\")\n"
   ]
  },
  {
   "cell_type": "code",
   "execution_count": 4,
   "id": "8a858047-eb96-4dee-98cf-89763c1ed04c",
   "metadata": {},
   "outputs": [],
   "source": [
    "system_message = \"\"\"\n",
    "You are an expert in extracting structured information from legal documents and contracts.\n",
    "Identify key details such as parties involved, dates, terms, obligations, and legal definitions.\n",
    "Present the extracted information in a clear, structured format. Be concise, focusing on essential\n",
    "legal content and ignoring unnecessary boilerplate language.\"\"\""
   ]
  },
  {
   "cell_type": "code",
   "execution_count": 5,
   "id": "a7837f1e-b7d1-403d-b126-e05e39d61e0c",
   "metadata": {},
   "outputs": [],
   "source": [
    "def extract(document, model=\"gpt-4o-2024-08-06\", temperature=0):\n",
    "    response = client.beta.chat.completions.parse(\n",
    "        model=model,\n",
    "        temperature=temperature,\n",
    "        messages=[\n",
    "            {\"role\": \"system\", \"content\": system_message},\n",
    "            {\"role\": \"user\", \"content\": document},\n",
    "        ],\n",
    "        response_format=Contract,\n",
    "    )\n",
    "    return response.choices[0].message.content"
   ]
  },
  {
   "cell_type": "code",
   "execution_count": 6,
   "id": "0537043f-cf3b-4f5a-b597-e8e888afa296",
   "metadata": {},
   "outputs": [],
   "source": [
    "# Read the file\n",
    "with open('../data/license_agreement.txt', 'r') as file:\n",
    "    contents = file.read()"
   ]
  },
  {
   "cell_type": "code",
   "execution_count": 8,
   "id": "d6a1e4a8-8ae8-46fa-86ca-271812fd7f2e",
   "metadata": {},
   "outputs": [
    {
     "name": "stdout",
     "output_type": "stream",
     "text": [
      "{\"effective_date\":\"1999-02-26\",\"client\":{\"name\":\"Mortgage Logic.com, Inc.\",\"location\":{\"address\":\"Two Venture Plaza, 2 Venture\",\"city\":\"Irvine\",\"state\":\"California\",\"country\":\"USA\"}},\"service_provider\":{\"name\":\"TrueLink, Inc.\",\"location\":{\"address\":\"3026 South Higuera\",\"city\":\"San Luis Obispo\",\"state\":\"California\",\"country\":\"USA\"}},\"grant_scope\":\"TrueLink grants a non-exclusive license to Client to use the Interface for origination, underwriting, processing, and funding of consumer finance receivables. Client is not obligated to use the License and may use other systems as long as they do not infringe on TrueLink's Intellectual Property.\",\"term\":\"The agreement is effective for 1 year from the Effective Date and renews automatically for successive one-year periods unless terminated as per Section 12.\",\"hosting_services\":[\"Storage of Web Site and data files\",\"Reasonable response times for Web Site access\",\"Bandwidth provision\",\"24/7 Web Site availability\",\"Access to Interface usage statistics\",\"Daily backups of Interface and data files\",\"Redundant Internet connections\",\"Assistance in securing domain names\",\"Transmission of credit data through Interface\"],\"support_services_duration\":null,\"compensation_details\":\"Client will pay fees for Hosting and Support Services as per Exhibits 'A' and 'B'. Minimum monthly fees apply. Invoices are provided monthly and payable within 15 days.\",\"intellectual_property_rights\":\"TrueLink retains ownership and license rights in the Interface. Client grants TrueLink a nonexclusive worldwide right to use Credit Data as per the Non-Competition Agreement.\",\"confidentiality_obligations\":\"Both parties agree to maintain confidentiality of Proprietary Information. Client's confidentiality obligations include those specified in agreements with System licensors.\",\"dispute_resolution\":\"Disputes will be resolved in the state or federal courts located within San Luis Obispo County, California. Each party consents to the jurisdiction of such courts.\",\"termination_conditions\":\"Agreement may be terminated by Client with written notice. Sections 2 and 3 terminate upon breach by Client affecting TrueLink's rights under System or Credit Repository Agreements.\",\"indemnification_provisions\":\"Client indemnifies TrueLink against claims arising from Client's breach or actions. TrueLink indemnifies Client against claims from TrueLink's breach or failure to perform obligations.\"}\n"
     ]
    }
   ],
   "source": [
    "data = extract(contents)\n",
    "print(data)"
   ]
  },
  {
   "cell_type": "code",
   "execution_count": 10,
   "id": "c4e99955-78e7-495b-8f95-89f1603c8a3b",
   "metadata": {},
   "outputs": [],
   "source": [
    "import json\n",
    "data = json.loads(data)"
   ]
  },
  {
   "cell_type": "code",
   "execution_count": 11,
   "id": "81652ded-f933-4b36-b76b-9000040498f4",
   "metadata": {},
   "outputs": [
    {
     "data": {
      "text/plain": [
       "{'effective_date': '1999-02-26',\n",
       " 'client': {'name': 'Mortgage Logic.com, Inc.',\n",
       "  'location': {'address': 'Two Venture Plaza, 2 Venture',\n",
       "   'city': 'Irvine',\n",
       "   'state': 'California',\n",
       "   'country': 'USA'}},\n",
       " 'service_provider': {'name': 'TrueLink, Inc.',\n",
       "  'location': {'address': '3026 South Higuera',\n",
       "   'city': 'San Luis Obispo',\n",
       "   'state': 'California',\n",
       "   'country': 'USA'}},\n",
       " 'grant_scope': \"TrueLink grants a non-exclusive license to Client to use the Interface for origination, underwriting, processing, and funding of consumer finance receivables. Client is not obligated to use the License and may use other systems as long as they do not infringe on TrueLink's Intellectual Property.\",\n",
       " 'term': 'The agreement is effective for 1 year from the Effective Date and renews automatically for successive one-year periods unless terminated as per Section 12.',\n",
       " 'hosting_services': ['Storage of Web Site and data files',\n",
       "  'Reasonable response times for Web Site access',\n",
       "  'Bandwidth provision',\n",
       "  '24/7 Web Site availability',\n",
       "  'Access to Interface usage statistics',\n",
       "  'Daily backups of Interface and data files',\n",
       "  'Redundant Internet connections',\n",
       "  'Assistance in securing domain names',\n",
       "  'Transmission of credit data through Interface'],\n",
       " 'support_services_duration': None,\n",
       " 'compensation_details': \"Client will pay fees for Hosting and Support Services as per Exhibits 'A' and 'B'. Minimum monthly fees apply. Invoices are provided monthly and payable within 15 days.\",\n",
       " 'intellectual_property_rights': 'TrueLink retains ownership and license rights in the Interface. Client grants TrueLink a nonexclusive worldwide right to use Credit Data as per the Non-Competition Agreement.',\n",
       " 'confidentiality_obligations': \"Both parties agree to maintain confidentiality of Proprietary Information. Client's confidentiality obligations include those specified in agreements with System licensors.\",\n",
       " 'dispute_resolution': 'Disputes will be resolved in the state or federal courts located within San Luis Obispo County, California. Each party consents to the jurisdiction of such courts.',\n",
       " 'termination_conditions': \"Agreement may be terminated by Client with written notice. Sections 2 and 3 terminate upon breach by Client affecting TrueLink's rights under System or Credit Repository Agreements.\",\n",
       " 'indemnification_provisions': \"Client indemnifies TrueLink against claims arising from Client's breach or actions. TrueLink indemnifies Client against claims from TrueLink's breach or failure to perform obligations.\"}"
      ]
     },
     "execution_count": 11,
     "metadata": {},
     "output_type": "execute_result"
    }
   ],
   "source": [
    "data"
   ]
  },
  {
   "cell_type": "code",
   "execution_count": null,
   "id": "fb7f4c38-e5d9-4190-b384-42280c77056d",
   "metadata": {},
   "outputs": [],
   "source": []
  }
 ],
 "metadata": {
  "kernelspec": {
   "display_name": "Python 3 (ipykernel)",
   "language": "python",
   "name": "python3"
  },
  "language_info": {
   "codemirror_mode": {
    "name": "ipython",
    "version": 3
   },
   "file_extension": ".py",
   "mimetype": "text/x-python",
   "name": "python",
   "nbconvert_exporter": "python",
   "pygments_lexer": "ipython3",
   "version": "3.11.5"
  }
 },
 "nbformat": 4,
 "nbformat_minor": 5
}
