{
 "cells": [
  {
   "cell_type": "code",
   "execution_count": 1,
   "metadata": {},
   "outputs": [],
   "source": [
    "%load_ext dotenv\n",
    "%dotenv\n",
    "\n",
    "%load_ext autoreload\n",
    "%autoreload 2"
   ]
  },
  {
   "cell_type": "code",
   "execution_count": 2,
   "metadata": {},
   "outputs": [],
   "source": [
    "from utils import chat, neo4j_driver\n",
    "from schema_utils import get_schema"
   ]
  },
  {
   "cell_type": "code",
   "execution_count": 4,
   "metadata": {},
   "outputs": [],
   "source": [
    "prompt_template = \"\"\"\n",
    "Instructions: \n",
    "Generate Cypher statement to query a graph database to get the data to answer the user question below.\n",
    "\n",
    "Graph Database Schema:\n",
    "Use only the provided relationship types and properties in the schema.\n",
    "Do not use any other relationship types or properties that are not provided in the schema.\n",
    "{schema}\n",
    "\n",
    "Terminology mapping:\n",
    "This section is helpful to map terminology between the user question and the graph database schema.\n",
    "{terminology}\n",
    "\n",
    "Examples:\n",
    "The following examples provide useful patterns for querying the graph database.\n",
    "{examples}\n",
    "\n",
    "Format instructions:\n",
    "Do not include any explanations or apologies in your responses.\n",
    "Do not respond to any questions that might ask anything else than for you to \n",
    "construct a Cypher statement.\n",
    "Do not include any text except the generated Cypher statement.\n",
    "ONLY RESPOND WITH CYPHER, NO CODEBLOCKS.\n",
    "\n",
    "User question: {question}\n",
    "\"\"\""
   ]
  },
  {
   "cell_type": "code",
   "execution_count": 5,
   "metadata": {},
   "outputs": [
    {
     "name": "stdout",
     "output_type": "stream",
     "text": [
      "Node properties:\n",
      "Movie {title: STRING, released: INTEGER, tagline: STRING}\n",
      "Person {name: STRING, born: INTEGER}\n",
      "Relationship properties:\n",
      "ACTED_IN {roles: LIST}\n",
      "REVIEWED {rating: INTEGER, summary: STRING}\n",
      "The relationships:\n",
      "(:Person)-[:ACTED_IN]->(:Movie)\n",
      "(:Person)-[:DIRECTED]->(:Movie)\n",
      "(:Person)-[:PRODUCED]->(:Movie)\n",
      "(:Person)-[:WROTE]->(:Movie)\n",
      "(:Person)-[:FOLLOWS]->(:Person)\n",
      "(:Person)-[:REVIEWED]->(:Movie)\n"
     ]
    }
   ],
   "source": [
    "schema_string = get_schema(neo4j_driver)\n",
    "print(schema_string)"
   ]
  },
  {
   "cell_type": "code",
   "execution_count": 6,
   "metadata": {},
   "outputs": [],
   "source": [
    "terminology_string = \"\"\"\n",
    "Persons: When a user asks about a person by trade like actor, writer, director, producer, reviewer, they are referring to a node with the label 'Person'.\n",
    "Movies: When a user asks about a film or movie, they are referring to a node with the label Movie.\n",
    "\"\"\""
   ]
  },
  {
   "cell_type": "code",
   "execution_count": 7,
   "metadata": {},
   "outputs": [],
   "source": [
    "examples = [[\"Who are the two people acted in most movies together?\", \"MATCH (p1:Person)-[:ACTED_IN]->(m:Movie)<-[:ACTED_IN]-(p2:Person) WHERE p1 <> p2 RETURN p1.name, p2.name, COUNT(m) AS movieCount ORDER BY movieCount DESC LIMIT 1\"]]"
   ]
  },
  {
   "cell_type": "code",
   "execution_count": 23,
   "metadata": {},
   "outputs": [
    {
     "name": "stdout",
     "output_type": "stream",
     "text": [
      "\n",
      "Instructions: \n",
      "Generate Cypher statement to query a graph database to get the data to answer the user question below.\n",
      "\n",
      "Graph Database Schema:\n",
      "Use only the provided relationship types and properties in the schema.\n",
      "Do not use any other relationship types or properties that are not provided in the schema.\n",
      "Node properties:\n",
      "Movie {title: STRING, released: INTEGER, tagline: STRING}\n",
      "Person {name: STRING, born: INTEGER}\n",
      "Relationship properties:\n",
      "ACTED_IN {roles: LIST}\n",
      "REVIEWED {rating: INTEGER, summary: STRING}\n",
      "The relationships:\n",
      "(:Person)-[:ACTED_IN]->(:Movie)\n",
      "(:Person)-[:DIRECTED]->(:Movie)\n",
      "(:Person)-[:PRODUCED]->(:Movie)\n",
      "(:Person)-[:WROTE]->(:Movie)\n",
      "(:Person)-[:FOLLOWS]->(:Person)\n",
      "(:Person)-[:REVIEWED]->(:Movie)\n",
      "\n",
      "Terminology mapping:\n",
      "This section is helpful to map terminology between the user question and the graph database schema.\n",
      "\n",
      "Persons: When a user asks about a person by trade like actor, writer, director, producer, reviewer, they are referring to a node with the label 'Person'.\n",
      "Movies: When a user asks about a film or movie, they are referring to a node with the label Movie.\n",
      "\n",
      "\n",
      "Examples:\n",
      "The following examples provide useful patterns for querying the graph database.\n",
      "Question: Who are the two people acted in most movies together?\n",
      "Cypher: MATCH (p1:Person)-[:ACTED_IN]->(m:Movie)<-[:ACTED_IN]-(p2:Person) WHERE p1 <> p2 RETURN p1.name, p2.name, COUNT(m) AS movieCount ORDER BY movieCount DESC LIMIT 1\n",
      "\n",
      "Format instructions:\n",
      "Do not include any explanations or apologies in your responses.\n",
      "Do not respond to any questions that might ask anything else than for you to \n",
      "construct a Cypher statement.\n",
      "Do not include any text except the generated Cypher statement.\n",
      "ONLY RESPOND WITH CYPHER, NO CODEBLOCKS.\n",
      "\n",
      "User question: Who directed the most movies?\n",
      "\n"
     ]
    }
   ],
   "source": [
    "\n",
    "question = \"Who directed the most movies?\"\n",
    "\n",
    "formatted_examples = \"\\n\".join([f\"Question: {e[0]}\\nCypher: {e[1]}\" for i, e in enumerate(examples)])\n",
    "\n",
    "full_prompt = prompt_template.format(question=question, schema=schema_string, terminology=terminology_string,examples=formatted_examples)\n",
    "print(full_prompt)"
   ]
  },
  {
   "cell_type": "code",
   "execution_count": 24,
   "metadata": {},
   "outputs": [
    {
     "name": "stdout",
     "output_type": "stream",
     "text": [
      "MATCH (p:Person)-[:DIRECTED]->(m:Movie) RETURN p.name, COUNT(m) AS movieCount ORDER BY movieCount DESC LIMIT 1\n"
     ]
    }
   ],
   "source": [
    "cypher = chat(messages=[{\"role\": \"user\", \"content\": full_prompt}])\n",
    "print(cypher)"
   ]
  },
  {
   "cell_type": "markdown",
   "metadata": {},
   "source": [
    "## Using the provided class"
   ]
  },
  {
   "cell_type": "code",
   "execution_count": 26,
   "metadata": {},
   "outputs": [
    {
     "name": "stdout",
     "output_type": "stream",
     "text": [
      "MATCH (p:Person)-[:DIRECTED]->(m:Movie) RETURN p.name, COUNT(m) AS movieCount ORDER BY movieCount DESC LIMIT 1\n"
     ]
    }
   ],
   "source": [
    "from text2cypher import Text2Cypher\n",
    "t2c = Text2Cypher(driver=neo4j_driver)\n",
    "\n",
    "t2c.set_prompt_section(\"question\", question)\n",
    "t2c.set_prompt_section(\"terminology\", terminology_string)\n",
    "t2c.set_prompt_section(\"examples\", formatted_examples)\n",
    "\n",
    "cypher_from_class = t2c.generate_cypher()\n",
    "\n",
    "print(cypher_from_class)"
   ]
  }
 ],
 "metadata": {
  "kernelspec": {
   "display_name": "3.11.6",
   "language": "python",
   "name": "python3"
  },
  "language_info": {
   "codemirror_mode": {
    "name": "ipython",
    "version": 3
   },
   "file_extension": ".py",
   "mimetype": "text/x-python",
   "name": "python",
   "nbconvert_exporter": "python",
   "pygments_lexer": "ipython3",
   "version": "3.11.6"
  }
 },
 "nbformat": 4,
 "nbformat_minor": 4
}
