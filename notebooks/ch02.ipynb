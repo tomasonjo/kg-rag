{
 "cells": [
  {
   "cell_type": "code",
   "execution_count": 1,
   "metadata": {},
   "outputs": [],
   "source": [
    "import requests\n",
    "\n",
    "remote_pdf_url = \"https://arxiv.org/pdf/1709.00666.pdf\"\n",
    "pdf_filename = \"ch02-downloaded.pdf\"\n",
    "\n",
    "response = requests.get(remote_pdf_url)\n",
    "\n",
    "if response.status_code == 200:\n",
    "    with open(pdf_filename, \"wb\") as pdf_file:\n",
    "        pdf_file.write(response.content)\n",
    "else:\n",
    "    print(\"Failed to download the PDF. Status code:\", response.status_code)"
   ]
  },
  {
   "cell_type": "code",
   "execution_count": 2,
   "metadata": {},
   "outputs": [
    {
     "name": "stdout",
     "output_type": "stream",
     "text": [
      "Einstein’s Patents a\n"
     ]
    }
   ],
   "source": [
    "import pdfplumber\n",
    "\n",
    "text = \"\"\n",
    "\n",
    "with pdfplumber.open(pdf_filename) as pdf:\n",
    "    for page in pdf.pages:\n",
    "        text += page.extract_text()\n",
    "\n",
    "print(text[0:20])"
   ]
  },
  {
   "cell_type": "code",
   "execution_count": 3,
   "metadata": {},
   "outputs": [
    {
     "name": "stdout",
     "output_type": "stream",
     "text": [
      "89\n",
      "Einstein’s Patents and Inventions\n",
      "Asis Kumar Chaudhuri\n",
      "Variable Energy Cyclotron Centre\n",
      "1‐AF Bidhan Nagar, Kolkata‐700 064\n",
      "Abstract: Times magazine selected Albert Einstein, the German born Jewish Scientist as the person of the 20th\n",
      "century. Undoubtedly, 20th century was the age of science and Einstein’s contributions in unravelling mysteries\n",
      "of nature was unparalleled. However, few are aware that Einstein was also a great inventor. He and his\n",
      "collaborators had patented a wide variety of inventions\n"
     ]
    }
   ],
   "source": [
    "from utils import chunk_text\n",
    "\n",
    "chunks = chunk_text(text, 500, 40)\n",
    "print(len(chunks))\n",
    "print(chunks[0])"
   ]
  },
  {
   "cell_type": "code",
   "execution_count": 4,
   "metadata": {},
   "outputs": [],
   "source": [
    "%load_ext dotenv\n",
    "%dotenv\n",
    "\n",
    "import os\n",
    "from openai import OpenAI\n",
    "\n",
    "\n",
    "open_ai_client = OpenAI(\n",
    "    api_key=os.environ.get(\"OPENAI_API_KEY\"),\n",
    ")"
   ]
  },
  {
   "cell_type": "code",
   "execution_count": 7,
   "metadata": {},
   "outputs": [
    {
     "name": "stdout",
     "output_type": "stream",
     "text": [
      "[0.023751787841320038, -0.022458432242274284, -0.014516995288431644]\n",
      "89\n",
      "1536\n"
     ]
    }
   ],
   "source": [
    "\n",
    "def embed(texts):\n",
    "    response = open_ai_client.embeddings.create(\n",
    "        input=texts,\n",
    "        model=\"text-embedding-3-small\",\n",
    "    )\n",
    "    return list(map(lambda n: n.embedding, response.data))\n",
    "\n",
    "embeddings = embed(chunks)\n",
    "\n",
    "print(embeddings[0][0:3])\n",
    "print(len(embeddings))\n",
    "print(len(embeddings[0]))\n"
   ]
  },
  {
   "cell_type": "code",
   "execution_count": 8,
   "metadata": {},
   "outputs": [],
   "source": [
    "from neo4j import GraphDatabase\n",
    "driver = GraphDatabase.driver(\"neo4j://localhost:7687\", auth=(\"neo4j\", \"password\"))"
   ]
  },
  {
   "cell_type": "code",
   "execution_count": 9,
   "metadata": {},
   "outputs": [],
   "source": [
    "try :\n",
    "    driver.execute_query(f\"CALL db.index.vector.createNodeIndex('pdf', 'Chunk', 'embedding', {len(embeddings[0])}, 'cosine')\")\n",
    "except:\n",
    "    print(\"Index already exists\")"
   ]
  },
  {
   "cell_type": "code",
   "execution_count": 10,
   "metadata": {},
   "outputs": [
    {
     "data": {
      "text/plain": [
       "EagerResult(records=[], summary=<neo4j._work.summary.ResultSummary object at 0x10c2cb310>, keys=[])"
      ]
     },
     "execution_count": 10,
     "metadata": {},
     "output_type": "execute_result"
    }
   ],
   "source": [
    "# Add to neo4j\n",
    "cypher_query = '''\n",
    "WITH $chunks as chunks, range(0, size($chunks)) AS index\n",
    "UNWIND index AS i\n",
    "WITH i, chunks[i] AS chunk, $embeddings[i] AS embedding\n",
    "MERGE (c:Chunk {index: i})\n",
    "SET c.text = chunk, c.embedding = embedding\n",
    "'''\n",
    "\n",
    "driver.execute_query(cypher_query, chunks=chunks, embeddings=embeddings)"
   ]
  },
  {
   "cell_type": "code",
   "execution_count": 12,
   "metadata": {},
   "outputs": [
    {
     "name": "stdout",
     "output_type": "stream",
     "text": [
      "[0.023751787841320038, -0.022458432242274284, -0.014516995288431644]\n"
     ]
    }
   ],
   "source": [
    "records, _, _ = driver.execute_query(\"MATCH (c:Chunk) WHERE c.index = 0 RETURN c.embedding, c.text\")\n",
    "\n",
    "print(records[0][\"c.text\"][0:30])\n",
    "print(records[0][\"c.embedding\"][0:3])"
   ]
  },
  {
   "cell_type": "code",
   "execution_count": 13,
   "metadata": {},
   "outputs": [
    {
     "name": "stdout",
     "output_type": "stream",
     "text": [
      "upbringing, his interest in inventions and patents was not unusual.\n",
      "Being a manufacturer’s son, Einstein grew upon in an environment of machines and instruments.\n",
      "When his father’s company obtained the contract to illuminate Munich city during beer festival, he\n",
      "was actively engaged in execution of the contract. In his ETH days Einstein was genuinely interested\n",
      "in experimental works. He wrote to his friend, “most of the time I worked in the physical laboratory,\n",
      "fascinated by the direct contact with observation.” Einstein's\n",
      "0.8185358047485352 42\n",
      "----\n",
      "instruments. However, it must also be\n",
      "emphasized that his main occupation was theoretical physics. The inventions he worked upon were\n",
      "his diversions. In his unproductive times he used to work upon on solving mathematical problems (not\n",
      "related to his ongoing theoretical investigations) or took upon some practical problem. As shown in\n",
      "Table. 2, Einstein was involved in three major inventions; (i) refrigeration system with Leo Szilard, (ii)\n",
      "Sound reproduction system with Rudolf Goldschmidt and (iii) automatic camera\n",
      "0.7906564474105835 44\n",
      "----\n"
     ]
    }
   ],
   "source": [
    "question = \"At what time was Einstein really interested in experimental works?\"\n",
    "question_embedding = embed([question])[0]\n",
    "\n",
    "query = '''\n",
    "CALL db.index.vector.queryNodes('pdf', 2, $question_embedding) YIELD node AS hits, score\n",
    "RETURN hits.text AS text, score, hits.index AS index\n",
    "'''\n",
    "similar_records, _, _ = driver.execute_query(query, question_embedding=question_embedding)\n",
    "\n",
    "for record in similar_records:\n",
    "    print(record[\"text\"])\n",
    "    print(record[\"score\"], record[\"index\"])\n",
    "    print(\"======\")"
   ]
  },
  {
   "cell_type": "code",
   "execution_count": 14,
   "metadata": {},
   "outputs": [
    {
     "name": "stdout",
     "output_type": "stream",
     "text": [
      "Question: At what time was Einstein really interested in experimental works?\n",
      "During his ETH days, Einstein was genuinely interested in experimental works."
     ]
    }
   ],
   "source": [
    "system_message = \"You're en Einstein expert, but can only use the provided documents to respond to the questions.\"\n",
    "user_message = f\"\"\"\n",
    "Use the following documents to answer the question that will follow:\n",
    "{[doc[\"text\"] for doc in similar_records]}\n",
    "\n",
    "---\n",
    "\n",
    "The question to answer using information only from the above documents: {question}\n",
    "\"\"\"\n",
    "\n",
    "print(\"Question:\", question)\n",
    "\n",
    "stream = open_ai_client.chat.completions.create(\n",
    "    model=\"gpt-4\",\n",
    "    messages=[\n",
    "        {\"role\": \"system\", \"content\": system_message},\n",
    "        {\"role\": \"user\", \"content\": user_message}\n",
    "    ],\n",
    "    stream=True,\n",
    ")\n",
    "for chunk in stream:\n",
    "    print(chunk.choices[0].delta.content or \"\", end=\"\")"
   ]
  }
 ],
 "metadata": {
  "kernelspec": {
   "display_name": "Python 3",
   "language": "python",
   "name": "python3"
  },
  "language_info": {
   "codemirror_mode": {
    "name": "ipython",
    "version": 3
   },
   "file_extension": ".py",
   "mimetype": "text/x-python",
   "name": "python",
   "nbconvert_exporter": "python",
   "pygments_lexer": "ipython3",
   "version": "3.11.6"
  }
 },
 "nbformat": 4,
 "nbformat_minor": 2
}
