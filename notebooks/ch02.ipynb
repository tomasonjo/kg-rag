{
  "cells": [
    {
      "cell_type": "code",
      "execution_count": null,
      "metadata": {
        "id": "0IM-IK0hTyIJ"
      },
      "outputs": [],
      "source": [
        "import requests\n",
        "\n",
        "remote_pdf_url = \"https://arxiv.org/pdf/1709.00666.pdf\"\n",
        "pdf_filename = \"ch02-downloaded.pdf\"\n",
        "\n",
        "response = requests.get(remote_pdf_url)\n",
        "\n",
        "if response.status_code == 200:\n",
        "    with open(pdf_filename, \"wb\") as pdf_file:\n",
        "        pdf_file.write(response.content)\n",
        "else:\n",
        "    print(\"Failed to download the PDF. Status code:\", response.status_code)"
      ]
    },
    {
      "cell_type": "code",
      "execution_count": null,
      "metadata": {
        "id": "d85TG9m9TyIK",
        "outputId": "255184bc-2b5a-4796-f3d1-5ead3bd21b78"
      },
      "outputs": [
        {
          "name": "stdout",
          "output_type": "stream",
          "text": [
            "Einstein’s Patents a\n"
          ]
        }
      ],
      "source": [
        "import pdfplumber\n",
        "\n",
        "text = \"\"\n",
        "\n",
        "with pdfplumber.open(pdf_filename) as pdf:\n",
        "    for page in pdf.pages:\n",
        "        text += page.extract_text()\n",
        "\n",
        "print(text[0:20])"
      ]
    },
    {
      "cell_type": "code",
      "execution_count": null,
      "metadata": {
        "id": "6rV2w0t1TyIK",
        "outputId": "a2b13ca3-971a-4c15-f790-2113d0cc5952"
      },
      "outputs": [
        {
          "name": "stdout",
          "output_type": "stream",
          "text": [
            "89\n",
            "Einstein’s Patents and Inventions\n",
            "Asis Kumar Chaudhuri\n",
            "Variable Energy Cyclotron Centre\n",
            "1‐AF Bidhan Nagar, Kolkata‐700 064\n",
            "Abstract: Times magazine selected Albert Einstein, the German born Jewish Scientist as the person of the 20th\n",
            "century. Undoubtedly, 20th century was the age of science and Einstein’s contributions in unravelling mysteries\n",
            "of nature was unparalleled. However, few are aware that Einstein was also a great inventor. He and his\n",
            "collaborators had patented a wide variety of inventions\n"
          ]
        }
      ],
      "source": [
        "from utils import chunk_text\n",
        "\n",
        "chunks = chunk_text(text, 500, 40)\n",
        "print(len(chunks))\n",
        "print(chunks[0])"
      ]
    },
    {
      "cell_type": "code",
      "execution_count": null,
      "metadata": {
        "id": "EtlNb7-VTyIL"
      },
      "outputs": [],
      "source": [
        "%load_ext dotenv\n",
        "%dotenv\n",
        "\n",
        "import os\n",
        "from openai import OpenAI\n",
        "\n",
        "\n",
        "open_ai_client = OpenAI(\n",
        "    api_key=os.environ.get(\"OPENAI_API_KEY\"),\n",
        ")"
      ]
    },
    {
      "cell_type": "code",
      "execution_count": null,
      "metadata": {
        "id": "1vWdE8zLTyIL",
        "outputId": "831bd985-04a5-423b-96bb-582ea3d29619"
      },
      "outputs": [
        {
          "name": "stdout",
          "output_type": "stream",
          "text": [
            "[0.023751787841320038, -0.022458432242274284, -0.014516995288431644]\n",
            "89\n",
            "1536\n"
          ]
        }
      ],
      "source": [
        "\n",
        "def embed(texts):\n",
        "    response = open_ai_client.embeddings.create(\n",
        "        input=texts,\n",
        "        model=\"text-embedding-3-small\",\n",
        "    )\n",
        "    return list(map(lambda n: n.embedding, response.data))\n",
        "\n",
        "embeddings = embed(chunks)\n",
        "\n",
        "print(embeddings[0][0:3])\n",
        "print(len(embeddings))\n",
        "print(len(embeddings[0]))\n"
      ]
    },
    {
      "cell_type": "code",
      "execution_count": null,
      "metadata": {
        "id": "Su_E7RDHTyIL"
      },
      "outputs": [],
      "source": [
        "from neo4j import GraphDatabase\n",
        "driver = GraphDatabase.driver(\"neo4j://localhost:7687\", auth=(\"neo4j\", \"password\"))"
      ]
    },
    {
      "cell_type": "code",
      "execution_count": null,
      "metadata": {
        "id": "nOmrBgVyTyIL"
      },
      "outputs": [],
      "source": [
        "driver.execute_query(\"\"\"CREATE VECTOR INDEX pdf IF NOT EXISTS\n",
        "FOR (c:Chunk)\n",
        "ON c.embedding\"\"\")"
      ]
    },
    {
      "cell_type": "code",
      "execution_count": null,
      "metadata": {
        "id": "lCUqAGEETyIL",
        "outputId": "90064b28-b95e-4b05-8c6f-ba1606de1d8f"
      },
      "outputs": [
        {
          "data": {
            "text/plain": [
              "EagerResult(records=[], summary=<neo4j._work.summary.ResultSummary object at 0x127c563d0>, keys=[])"
            ]
          },
          "execution_count": 8,
          "metadata": {},
          "output_type": "execute_result"
        }
      ],
      "source": [
        "# Add to neo4j\n",
        "cypher_query = '''\n",
        "WITH $chunks as chunks, range(0, size($chunks)) AS index\n",
        "UNWIND index AS i\n",
        "WITH i, chunks[i] AS chunk, $embeddings[i] AS embedding\n",
        "MERGE (c:Chunk {index: i})\n",
        "SET c.text = chunk, c.embedding = embedding\n",
        "'''\n",
        "\n",
        "driver.execute_query(cypher_query, chunks=chunks, embeddings=embeddings)"
      ]
    },
    {
      "cell_type": "code",
      "execution_count": null,
      "metadata": {
        "id": "AqQ8FZ1-TyIL",
        "outputId": "6f839824-2605-439b-9a74-492af526c49a"
      },
      "outputs": [
        {
          "name": "stdout",
          "output_type": "stream",
          "text": [
            "Einstein’s Patents and Inventi\n",
            "[0.023751787841320038, -0.022458432242274284, -0.014516995288431644]\n"
          ]
        }
      ],
      "source": [
        "records, _, _ = driver.execute_query(\"MATCH (c:Chunk) WHERE c.index = 0 RETURN c.embedding, c.text\")\n",
        "\n",
        "print(records[0][\"c.text\"][0:30])\n",
        "print(records[0][\"c.embedding\"][0:3])"
      ]
    },
    {
      "cell_type": "code",
      "execution_count": null,
      "metadata": {
        "id": "6Z-UKsBoTyIL",
        "outputId": "08a29cd2-d1d9-4d73-96cf-bced9051cac8"
      },
      "outputs": [
        {
          "name": "stdout",
          "output_type": "stream",
          "text": [
            "CH‐Switzerland\n",
            "Considering Einstein’s upbringing, his interest in inventions and patents was not unusual.\n",
            "Being a manufacturer’s son, Einstein grew upon in an environment of machines and instruments.\n",
            "When his father’s company obtained the contract to illuminate Munich city during beer festival, he\n",
            "was actively engaged in execution of the contract. In his ETH days Einstein was genuinely interested\n",
            "in experimental works. He wrote to his friend, “most of the time I worked in the physical laboratory,\n",
            "fascinated by the direct contact with observation.” Einstein's\n",
            "0.8110414743423462 42\n",
            "======\n",
            "Einstein\n",
            "left his job at the Patent office and joined the University of Zurich on October 15, 1909. Thereafter, he\n",
            "continued to rise in ladder. In 1911, he moved to Prague University as a full professor, a year later, he\n",
            "was appointed as full professor at ETH, Zurich, his alma‐mater. In 1914, he was appointed Director of\n",
            "the Kaiser Wilhelm Institute for Physics (1914–1932) and a professor at the Humboldt University of\n",
            "Berlin, with a special clause in his contract that freed him from teaching obligations. In the meantime,\n",
            "he was working for\n",
            "0.7977187633514404 31\n",
            "======\n",
            "Einstein’s life was rather featureless. He diligently worked at the patent office,\n",
            "played violin, discussed physics with his friends, write few not so interesting papers. Then in 1905, he\n",
            "took the academic world by surprise. In the annals of physics, the year 1905 is known as “annus\n",
            "mirabilis” or the year of miracle. Indeed, a miracle happened. Albert Einstein, barely 26 years old,\n",
            "sitting in an obscure Swiss patent office, wrote four papers, each of which produced some sort of\n",
            "revolution in Physics. The papers were published in a single\n",
            "0.7872792482376099 20\n",
            "======\n",
            "in nuances of machines and instruments. However, it must also be\n",
            "emphasized that his main occupation was theoretical physics. The inventions he worked upon were\n",
            "his diversions. In his unproductive times he used to work upon on solving mathematical problems (not\n",
            "related to his ongoing theoretical investigations) or took upon some practical problem. As shown in\n",
            "Table. 2, Einstein was involved in three major inventions; (i) refrigeration system with Leo Szilard, (ii)\n",
            "Sound reproduction system with Rudolf Goldschmidt and (iii) automatic camera\n",
            "0.7871546745300293 44\n",
            "======\n"
          ]
        }
      ],
      "source": [
        "question = \"At what time was Einstein really interested in experimental works?\"\n",
        "question_embedding = embed([question])[0]\n",
        "\n",
        "query = '''\n",
        "CALL db.index.vector.queryNodes('pdf', $k, $question_embedding) YIELD node AS hits, score\n",
        "RETURN hits.text AS text, score, hits.index AS index\n",
        "'''\n",
        "similar_records, _, _ = driver.execute_query(query, question_embedding=question_embedding, k=4)\n",
        "\n",
        "for record in similar_records:\n",
        "    print(record[\"text\"])\n",
        "    print(record[\"score\"], record[\"index\"])\n",
        "    print(\"======\")"
      ]
    },
    {
      "cell_type": "code",
      "execution_count": null,
      "metadata": {
        "id": "5X2TVJ8ITyIL",
        "outputId": "e8302af2-7074-4f06-f6a4-e66e40afcc71"
      },
      "outputs": [
        {
          "name": "stdout",
          "output_type": "stream",
          "text": [
            "Question: At what time was Einstein really interested in experimental works?\n",
            "Einstein was genuinely interested in experimental works during his ETH days."
          ]
        }
      ],
      "source": [
        "system_message = \"You're en Einstein expert, but can only use the provided documents to respond to the questions.\"\n",
        "user_message = f\"\"\"\n",
        "Use the following documents to answer the question that will follow:\n",
        "{[doc[\"text\"] for doc in similar_records]}\n",
        "\n",
        "---\n",
        "\n",
        "The question to answer using information only from the above documents: {question}\n",
        "\"\"\"\n",
        "\n",
        "print(\"Question:\", question)\n",
        "\n",
        "stream = open_ai_client.chat.completions.create(\n",
        "    model=\"gpt-4\",\n",
        "    messages=[\n",
        "        {\"role\": \"system\", \"content\": system_message},\n",
        "        {\"role\": \"user\", \"content\": user_message}\n",
        "    ],\n",
        "    stream=True,\n",
        ")\n",
        "for chunk in stream:\n",
        "    print(chunk.choices[0].delta.content or \"\", end=\"\")"
      ]
    },
    {
      "cell_type": "code",
      "execution_count": null,
      "metadata": {
        "id": "qHELU3bFTyIM"
      },
      "outputs": [],
      "source": [
        "try :\n",
        "    driver.execute_query(f\"CREATE FULLTEXT INDEX ftPdfChunk FOR (c:Chunk) ON EACH [c.text]\")\n",
        "except:\n",
        "    print(\"Fulltext Index already exists\")"
      ]
    },
    {
      "cell_type": "code",
      "execution_count": null,
      "metadata": {
        "id": "KCez2NfJTyIM",
        "outputId": "73026167-e7f2-432e-b0c7-48c9fe2ee9ee"
      },
      "outputs": [
        {
          "name": "stdout",
          "output_type": "stream",
          "text": [
            "CH‐Switzerland\n",
            "Considering Einstein’s upbringing, his interest in inventions and patents was not unusual.\n",
            "Being a manufacturer’s son, Einstein grew upon in an environment of machines and instruments.\n",
            "When his father’s company obtained the contract to illuminate Munich city during beer festival, he\n",
            "was actively engaged in execution of the contract. In his ETH days Einstein was genuinely interested\n",
            "in experimental works. He wrote to his friend, “most of the time I worked in the physical laboratory,\n",
            "fascinated by the direct contact with observation.” Einstein's\n",
            "1.0 42\n",
            "======\n",
            "Einstein\n",
            "left his job at the Patent office and joined the University of Zurich on October 15, 1909. Thereafter, he\n",
            "continued to rise in ladder. In 1911, he moved to Prague University as a full professor, a year later, he\n",
            "was appointed as full professor at ETH, Zurich, his alma‐mater. In 1914, he was appointed Director of\n",
            "the Kaiser Wilhelm Institute for Physics (1914–1932) and a professor at the Humboldt University of\n",
            "Berlin, with a special clause in his contract that freed him from teaching obligations. In the meantime,\n",
            "he was working for\n",
            "0.9835733295862473 31\n",
            "======\n",
            "Einstein’s life was rather featureless. He diligently worked at the patent office,\n",
            "played violin, discussed physics with his friends, write few not so interesting papers. Then in 1905, he\n",
            "took the academic world by surprise. In the annals of physics, the year 1905 is known as “annus\n",
            "mirabilis” or the year of miracle. Indeed, a miracle happened. Albert Einstein, barely 26 years old,\n",
            "sitting in an obscure Swiss patent office, wrote four papers, each of which produced some sort of\n",
            "revolution in Physics. The papers were published in a single\n",
            "0.9707015894298074 20\n",
            "======\n",
            "in nuances of machines and instruments. However, it must also be\n",
            "emphasized that his main occupation was theoretical physics. The inventions he worked upon were\n",
            "his diversions. In his unproductive times he used to work upon on solving mathematical problems (not\n",
            "related to his ongoing theoretical investigations) or took upon some practical problem. As shown in\n",
            "Table. 2, Einstein was involved in three major inventions; (i) refrigeration system with Leo Szilard, (ii)\n",
            "Sound reproduction system with Rudolf Goldschmidt and (iii) automatic camera\n",
            "0.9705479922198971 44\n",
            "======\n"
          ]
        }
      ],
      "source": [
        "hybrid_query = '''\n",
        "CALL {\n",
        "    // vector index\n",
        "    CALL db.index.vector.queryNodes('pdf', $k, $question_embedding) YIELD node, score\n",
        "    WITH collect({node:node, score:score}) AS nodes, max(score) AS max\n",
        "    UNWIND nodes AS n\n",
        "    // We use 0 as min\n",
        "    RETURN n.node AS node, (n.score / max) AS score\n",
        "    UNION\n",
        "    // keyword index\n",
        "    CALL db.index.fulltext.queryNodes('ftPdfChunk', $question, {limit: $k})\n",
        "    YIELD node, score\n",
        "    WITH collect({node:node, score:score}) AS nodes, max(score) AS max\n",
        "    UNWIND nodes AS n\n",
        "    // We use 0 as min\n",
        "    RETURN n.node AS node, (n.score / max) AS score\n",
        "}\n",
        "// dedup\n",
        "WITH node, max(score) AS score ORDER BY score DESC LIMIT $k\n",
        "RETURN node, score\n",
        "'''\n",
        "similar_hybrid_records, _, _ = driver.execute_query(hybrid_query, question_embedding=question_embedding, question=question, k=4)\n",
        "\n",
        "for record in similar_hybrid_records:\n",
        "    print(record[\"node\"][\"text\"])\n",
        "    print(record[\"score\"], record[\"node\"][\"index\"])\n",
        "    print(\"======\")"
      ]
    },
    {
      "cell_type": "code",
      "execution_count": null,
      "metadata": {
        "id": "Quo2Hv5ETyIM",
        "outputId": "93c33c50-e951-41e5-f93d-38780ae3061a"
      },
      "outputs": [
        {
          "name": "stdout",
          "output_type": "stream",
          "text": [
            "Question: At what time was Einstein really interested in experimental works?\n",
            "Einstein was genuinely interested in experimental works during his days at ETH, as indicated in the provided documents."
          ]
        }
      ],
      "source": [
        "user_message = f\"\"\"\n",
        "Use the following documents to answer the question that will follow:\n",
        "{[doc[\"node\"][\"text\"] for doc in similar_hybrid_records]}\n",
        "\n",
        "---\n",
        "\n",
        "The question to answer using information only from the above documents: {question}\n",
        "\"\"\"\n",
        "\n",
        "print(\"Question:\", question)\n",
        "\n",
        "stream = open_ai_client.chat.completions.create(\n",
        "    model=\"gpt-4\",\n",
        "    messages=[\n",
        "        {\"role\": \"system\", \"content\": system_message},\n",
        "        {\"role\": \"user\", \"content\": user_message}\n",
        "    ],\n",
        "    stream=True,\n",
        ")\n",
        "for chunk in stream:\n",
        "    print(chunk.choices[0].delta.content or \"\", end=\"\")"
      ]
    }
  ],
  "metadata": {
    "kernelspec": {
      "display_name": "Python 3",
      "language": "python",
      "name": "python3"
    },
    "language_info": {
      "codemirror_mode": {
        "name": "ipython",
        "version": 3
      },
      "file_extension": ".py",
      "mimetype": "text/x-python",
      "name": "python",
      "nbconvert_exporter": "python",
      "pygments_lexer": "ipython3",
      "version": "3.11.6"
    },
    "colab": {
      "provenance": []
    }
  },
  "nbformat": 4,
  "nbformat_minor": 0
}